{
 "cells": [
  {
   "cell_type": "code",
   "execution_count": 1,
   "metadata": {},
   "outputs": [],
   "source": [
    "import pymatgen"
   ]
  },
  {
   "cell_type": "code",
   "execution_count": 2,
   "metadata": {},
   "outputs": [],
   "source": [
    "from pymatgen import MPRester\n",
    "downloader = MPRester(\"YOURAPIKEY\")"
   ]
  },
  {
   "cell_type": "code",
   "execution_count": 3,
   "metadata": {},
   "outputs": [
    {
     "data": {
      "application/vnd.jupyter.widget-view+json": {
       "model_id": "4f274dc5f793449aba73e9ed06239470",
       "version_major": 2,
       "version_minor": 0
      },
      "text/plain": [
       "HBox(children=(IntProgress(value=0, max=126335), HTML(value='')))"
      ]
     },
     "metadata": {},
     "output_type": "display_data"
    }
   ],
   "source": [
    "all_list = downloader.query({},[\"material_id\"])\n",
    "mp_ids = [i[\"material_id\"] for i in all_list]\n",
    "# mp_ids = [i[\"material_id\"] for i in downloader.query({}, [\"material_id\"])]\n",
    "chunk_size = 1000\n",
    "sublists = [mp_ids[i:i+chunk_size] for i in range(0, len(mp_ids), chunk_size)]"
   ]
  },
  {
   "cell_type": "code",
   "execution_count": 20,
   "metadata": {},
   "outputs": [
    {
     "name": "stdout",
     "output_type": "stream",
     "text": [
      "126335\n"
     ]
    }
   ],
   "source": [
    "print(len(mp_ids))"
   ]
  },
  {
   "cell_type": "code",
   "execution_count": 4,
   "metadata": {},
   "outputs": [
    {
     "name": "stdout",
     "output_type": "stream",
     "text": [
      "processing 0 iteration\n"
     ]
    },
    {
     "data": {
      "application/vnd.jupyter.widget-view+json": {
       "model_id": "02b58931133e42648b994cef198f8778",
       "version_major": 2,
       "version_minor": 0
      },
      "text/plain": [
       "HBox(children=(IntProgress(value=0, max=1000), HTML(value='')))"
      ]
     },
     "metadata": {},
     "output_type": "display_data"
    },
    {
     "name": "stdout",
     "output_type": "stream",
     "text": [
      "processing 1 iteration\n"
     ]
    },
    {
     "data": {
      "application/vnd.jupyter.widget-view+json": {
       "model_id": "4a206f0facfc45c5a3c0cfb51d642ec0",
       "version_major": 2,
       "version_minor": 0
      },
      "text/plain": [
       "HBox(children=(IntProgress(value=0, max=1000), HTML(value='')))"
      ]
     },
     "metadata": {},
     "output_type": "display_data"
    },
    {
     "name": "stdout",
     "output_type": "stream",
     "text": [
      "processing 2 iteration\n"
     ]
    },
    {
     "data": {
      "application/vnd.jupyter.widget-view+json": {
       "model_id": "ab5ce865a7db44cfb577d8de4b815495",
       "version_major": 2,
       "version_minor": 0
      },
      "text/plain": [
       "HBox(children=(IntProgress(value=0, max=1000), HTML(value='')))"
      ]
     },
     "metadata": {},
     "output_type": "display_data"
    },
    {
     "name": "stdout",
     "output_type": "stream",
     "text": [
      "processing 3 iteration\n"
     ]
    },
    {
     "data": {
      "application/vnd.jupyter.widget-view+json": {
       "model_id": "8b7df4021fb24a1bb5af105661801c77",
       "version_major": 2,
       "version_minor": 0
      },
      "text/plain": [
       "HBox(children=(IntProgress(value=0, max=1000), HTML(value='')))"
      ]
     },
     "metadata": {},
     "output_type": "display_data"
    },
    {
     "name": "stdout",
     "output_type": "stream",
     "text": [
      "processing 4 iteration\n"
     ]
    },
    {
     "data": {
      "application/vnd.jupyter.widget-view+json": {
       "model_id": "5b60dcd4759548c6a5e794cc49654833",
       "version_major": 2,
       "version_minor": 0
      },
      "text/plain": [
       "HBox(children=(IntProgress(value=0, max=1000), HTML(value='')))"
      ]
     },
     "metadata": {},
     "output_type": "display_data"
    },
    {
     "name": "stdout",
     "output_type": "stream",
     "text": [
      "processing 5 iteration\n"
     ]
    },
    {
     "data": {
      "application/vnd.jupyter.widget-view+json": {
       "model_id": "eefd5363a6a34592b5893b6e1374721e",
       "version_major": 2,
       "version_minor": 0
      },
      "text/plain": [
       "HBox(children=(IntProgress(value=0, max=1000), HTML(value='')))"
      ]
     },
     "metadata": {},
     "output_type": "display_data"
    },
    {
     "name": "stdout",
     "output_type": "stream",
     "text": [
      "\n",
      "processing 6 iteration\n"
     ]
    },
    {
     "data": {
      "application/vnd.jupyter.widget-view+json": {
       "model_id": "866ff32a1a3a4e719c9847b3d746ce5e",
       "version_major": 2,
       "version_minor": 0
      },
      "text/plain": [
       "HBox(children=(IntProgress(value=0, max=1000), HTML(value='')))"
      ]
     },
     "metadata": {},
     "output_type": "display_data"
    },
    {
     "name": "stdout",
     "output_type": "stream",
     "text": [
      "processing 7 iteration\n"
     ]
    },
    {
     "data": {
      "application/vnd.jupyter.widget-view+json": {
       "model_id": "4c86f9c067064671835d818a84632dd2",
       "version_major": 2,
       "version_minor": 0
      },
      "text/plain": [
       "HBox(children=(IntProgress(value=0, max=1000), HTML(value='')))"
      ]
     },
     "metadata": {},
     "output_type": "display_data"
    },
    {
     "name": "stdout",
     "output_type": "stream",
     "text": [
      "processing 8 iteration\n"
     ]
    },
    {
     "data": {
      "application/vnd.jupyter.widget-view+json": {
       "model_id": "a4bd63f5a8494822ae0d0dc027182f0e",
       "version_major": 2,
       "version_minor": 0
      },
      "text/plain": [
       "HBox(children=(IntProgress(value=0, max=1000), HTML(value='')))"
      ]
     },
     "metadata": {},
     "output_type": "display_data"
    },
    {
     "name": "stdout",
     "output_type": "stream",
     "text": [
      "processing 9 iteration\n"
     ]
    },
    {
     "data": {
      "application/vnd.jupyter.widget-view+json": {
       "model_id": "4d9ba46253e348919b72701e7fa09f97",
       "version_major": 2,
       "version_minor": 0
      },
      "text/plain": [
       "HBox(children=(IntProgress(value=0, max=1000), HTML(value='')))"
      ]
     },
     "metadata": {},
     "output_type": "display_data"
    },
    {
     "name": "stdout",
     "output_type": "stream",
     "text": [
      "processing 10 iteration\n"
     ]
    },
    {
     "data": {
      "application/vnd.jupyter.widget-view+json": {
       "model_id": "4c5c406a294d4a1fb2f337b6b6a522db",
       "version_major": 2,
       "version_minor": 0
      },
      "text/plain": [
       "HBox(children=(IntProgress(value=0, max=1000), HTML(value='')))"
      ]
     },
     "metadata": {},
     "output_type": "display_data"
    },
    {
     "name": "stdout",
     "output_type": "stream",
     "text": [
      "processing 11 iteration\n"
     ]
    },
    {
     "data": {
      "application/vnd.jupyter.widget-view+json": {
       "model_id": "e92d5b9930a349e69222d7dc777087d4",
       "version_major": 2,
       "version_minor": 0
      },
      "text/plain": [
       "HBox(children=(IntProgress(value=0, max=1000), HTML(value='')))"
      ]
     },
     "metadata": {},
     "output_type": "display_data"
    },
    {
     "name": "stdout",
     "output_type": "stream",
     "text": [
      "processing 12 iteration\n"
     ]
    },
    {
     "data": {
      "application/vnd.jupyter.widget-view+json": {
       "model_id": "2085ce170a074a7da9cf896ffbb3cfd0",
       "version_major": 2,
       "version_minor": 0
      },
      "text/plain": [
       "HBox(children=(IntProgress(value=0, max=1000), HTML(value='')))"
      ]
     },
     "metadata": {},
     "output_type": "display_data"
    },
    {
     "name": "stdout",
     "output_type": "stream",
     "text": [
      "processing 13 iteration\n"
     ]
    },
    {
     "data": {
      "application/vnd.jupyter.widget-view+json": {
       "model_id": "d466420f679141d593175f68587bee46",
       "version_major": 2,
       "version_minor": 0
      },
      "text/plain": [
       "HBox(children=(IntProgress(value=0, max=1000), HTML(value='')))"
      ]
     },
     "metadata": {},
     "output_type": "display_data"
    },
    {
     "name": "stdout",
     "output_type": "stream",
     "text": [
      "processing 14 iteration\n"
     ]
    },
    {
     "data": {
      "application/vnd.jupyter.widget-view+json": {
       "model_id": "f1fe11726ff4437eb76e6eead9d0edb8",
       "version_major": 2,
       "version_minor": 0
      },
      "text/plain": [
       "HBox(children=(IntProgress(value=0, max=1000), HTML(value='')))"
      ]
     },
     "metadata": {},
     "output_type": "display_data"
    },
    {
     "name": "stdout",
     "output_type": "stream",
     "text": [
      "processing 15 iteration\n"
     ]
    },
    {
     "data": {
      "application/vnd.jupyter.widget-view+json": {
       "model_id": "30400cdcd8294bc199bfbec22866b59a",
       "version_major": 2,
       "version_minor": 0
      },
      "text/plain": [
       "HBox(children=(IntProgress(value=0, max=1000), HTML(value='')))"
      ]
     },
     "metadata": {},
     "output_type": "display_data"
    },
    {
     "name": "stdout",
     "output_type": "stream",
     "text": [
      "processing 16 iteration\n"
     ]
    },
    {
     "data": {
      "application/vnd.jupyter.widget-view+json": {
       "model_id": "44dc81b6e43f49fa8497b40d69fd2f9b",
       "version_major": 2,
       "version_minor": 0
      },
      "text/plain": [
       "HBox(children=(IntProgress(value=0, max=1000), HTML(value='')))"
      ]
     },
     "metadata": {},
     "output_type": "display_data"
    },
    {
     "name": "stdout",
     "output_type": "stream",
     "text": [
      "processing 17 iteration\n"
     ]
    },
    {
     "data": {
      "application/vnd.jupyter.widget-view+json": {
       "model_id": "a17a30e014ec45d9801dcb1694c4b51e",
       "version_major": 2,
       "version_minor": 0
      },
      "text/plain": [
       "HBox(children=(IntProgress(value=0, max=1000), HTML(value='')))"
      ]
     },
     "metadata": {},
     "output_type": "display_data"
    },
    {
     "name": "stdout",
     "output_type": "stream",
     "text": [
      "processing 18 iteration\n"
     ]
    },
    {
     "data": {
      "application/vnd.jupyter.widget-view+json": {
       "model_id": "6ab4231d83ad472d9f3000cf1f6ee57c",
       "version_major": 2,
       "version_minor": 0
      },
      "text/plain": [
       "HBox(children=(IntProgress(value=0, max=1000), HTML(value='')))"
      ]
     },
     "metadata": {},
     "output_type": "display_data"
    },
    {
     "name": "stdout",
     "output_type": "stream",
     "text": [
      "processing 19 iteration\n"
     ]
    },
    {
     "data": {
      "application/vnd.jupyter.widget-view+json": {
       "model_id": "f1aba202e7554a87a311c91a7fc8c530",
       "version_major": 2,
       "version_minor": 0
      },
      "text/plain": [
       "HBox(children=(IntProgress(value=0, max=1000), HTML(value='')))"
      ]
     },
     "metadata": {},
     "output_type": "display_data"
    },
    {
     "name": "stdout",
     "output_type": "stream",
     "text": [
      "\n",
      "processing 20 iteration\n"
     ]
    },
    {
     "data": {
      "application/vnd.jupyter.widget-view+json": {
       "model_id": "73bd23f14cb54998abe9a0fa91c4bc76",
       "version_major": 2,
       "version_minor": 0
      },
      "text/plain": [
       "HBox(children=(IntProgress(value=0, max=1000), HTML(value='')))"
      ]
     },
     "metadata": {},
     "output_type": "display_data"
    },
    {
     "name": "stdout",
     "output_type": "stream",
     "text": [
      "processing 21 iteration\n"
     ]
    },
    {
     "data": {
      "application/vnd.jupyter.widget-view+json": {
       "model_id": "801d2fec56b24334bb307d4cb1f83d04",
       "version_major": 2,
       "version_minor": 0
      },
      "text/plain": [
       "HBox(children=(IntProgress(value=0, max=1000), HTML(value='')))"
      ]
     },
     "metadata": {},
     "output_type": "display_data"
    },
    {
     "name": "stdout",
     "output_type": "stream",
     "text": [
      "processing 22 iteration\n"
     ]
    },
    {
     "data": {
      "application/vnd.jupyter.widget-view+json": {
       "model_id": "f92f494e9e354a998b3ee3fcc542c431",
       "version_major": 2,
       "version_minor": 0
      },
      "text/plain": [
       "HBox(children=(IntProgress(value=0, max=1000), HTML(value='')))"
      ]
     },
     "metadata": {},
     "output_type": "display_data"
    },
    {
     "name": "stdout",
     "output_type": "stream",
     "text": [
      "processing 23 iteration\n"
     ]
    },
    {
     "data": {
      "application/vnd.jupyter.widget-view+json": {
       "model_id": "ffdd3c45313a4e72bc042d8fe964ff5a",
       "version_major": 2,
       "version_minor": 0
      },
      "text/plain": [
       "HBox(children=(IntProgress(value=0, max=1000), HTML(value='')))"
      ]
     },
     "metadata": {},
     "output_type": "display_data"
    },
    {
     "name": "stdout",
     "output_type": "stream",
     "text": [
      "processing 24 iteration\n"
     ]
    },
    {
     "data": {
      "application/vnd.jupyter.widget-view+json": {
       "model_id": "9669b480992e4a4498d5bb01ffa26dca",
       "version_major": 2,
       "version_minor": 0
      },
      "text/plain": [
       "HBox(children=(IntProgress(value=0, max=1000), HTML(value='')))"
      ]
     },
     "metadata": {},
     "output_type": "display_data"
    },
    {
     "name": "stdout",
     "output_type": "stream",
     "text": [
      "processing 25 iteration\n"
     ]
    },
    {
     "data": {
      "application/vnd.jupyter.widget-view+json": {
       "model_id": "b6dce6dbda8d4a3dbac3fd2231e61303",
       "version_major": 2,
       "version_minor": 0
      },
      "text/plain": [
       "HBox(children=(IntProgress(value=0, max=1000), HTML(value='')))"
      ]
     },
     "metadata": {},
     "output_type": "display_data"
    },
    {
     "name": "stdout",
     "output_type": "stream",
     "text": [
      "processing 26 iteration\n"
     ]
    },
    {
     "data": {
      "application/vnd.jupyter.widget-view+json": {
       "model_id": "61fafc22d4734b9196a26993dc771012",
       "version_major": 2,
       "version_minor": 0
      },
      "text/plain": [
       "HBox(children=(IntProgress(value=0, max=1000), HTML(value='')))"
      ]
     },
     "metadata": {},
     "output_type": "display_data"
    },
    {
     "name": "stdout",
     "output_type": "stream",
     "text": [
      "processing 27 iteration\n"
     ]
    },
    {
     "data": {
      "application/vnd.jupyter.widget-view+json": {
       "model_id": "b0cfa8abb1634189b7e1a96427cbda16",
       "version_major": 2,
       "version_minor": 0
      },
      "text/plain": [
       "HBox(children=(IntProgress(value=0, max=1000), HTML(value='')))"
      ]
     },
     "metadata": {},
     "output_type": "display_data"
    },
    {
     "name": "stdout",
     "output_type": "stream",
     "text": [
      "processing 28 iteration\n"
     ]
    },
    {
     "data": {
      "application/vnd.jupyter.widget-view+json": {
       "model_id": "de8e5ff3d0ba4cd2b5d0501da519116c",
       "version_major": 2,
       "version_minor": 0
      },
      "text/plain": [
       "HBox(children=(IntProgress(value=0, max=1000), HTML(value='')))"
      ]
     },
     "metadata": {},
     "output_type": "display_data"
    },
    {
     "name": "stdout",
     "output_type": "stream",
     "text": [
      "processing 29 iteration\n"
     ]
    },
    {
     "data": {
      "application/vnd.jupyter.widget-view+json": {
       "model_id": "11a12f1bf49347a49823b8ecefc299f0",
       "version_major": 2,
       "version_minor": 0
      },
      "text/plain": [
       "HBox(children=(IntProgress(value=0, max=1000), HTML(value='')))"
      ]
     },
     "metadata": {},
     "output_type": "display_data"
    },
    {
     "name": "stdout",
     "output_type": "stream",
     "text": [
      "processing 30 iteration\n"
     ]
    },
    {
     "data": {
      "application/vnd.jupyter.widget-view+json": {
       "model_id": "178a3536f5af4c83b98b1d96216c798a",
       "version_major": 2,
       "version_minor": 0
      },
      "text/plain": [
       "HBox(children=(IntProgress(value=0, max=1000), HTML(value='')))"
      ]
     },
     "metadata": {},
     "output_type": "display_data"
    },
    {
     "name": "stdout",
     "output_type": "stream",
     "text": [
      "processing 31 iteration\n"
     ]
    },
    {
     "data": {
      "application/vnd.jupyter.widget-view+json": {
       "model_id": "3ad80883b44e4854a5ea88d7b6cdb2d8",
       "version_major": 2,
       "version_minor": 0
      },
      "text/plain": [
       "HBox(children=(IntProgress(value=0, max=1000), HTML(value='')))"
      ]
     },
     "metadata": {},
     "output_type": "display_data"
    },
    {
     "name": "stdout",
     "output_type": "stream",
     "text": [
      "processing 32 iteration\n"
     ]
    },
    {
     "data": {
      "application/vnd.jupyter.widget-view+json": {
       "model_id": "3c7f570a3d9b476da8a09c2d31b9372f",
       "version_major": 2,
       "version_minor": 0
      },
      "text/plain": [
       "HBox(children=(IntProgress(value=0, max=1000), HTML(value='')))"
      ]
     },
     "metadata": {},
     "output_type": "display_data"
    },
    {
     "name": "stdout",
     "output_type": "stream",
     "text": [
      "processing 33 iteration\n"
     ]
    },
    {
     "data": {
      "application/vnd.jupyter.widget-view+json": {
       "model_id": "d009626de99d4da38a06a48e725a19a2",
       "version_major": 2,
       "version_minor": 0
      },
      "text/plain": [
       "HBox(children=(IntProgress(value=0, max=1000), HTML(value='')))"
      ]
     },
     "metadata": {},
     "output_type": "display_data"
    },
    {
     "name": "stdout",
     "output_type": "stream",
     "text": [
      "processing 34 iteration\n"
     ]
    },
    {
     "data": {
      "application/vnd.jupyter.widget-view+json": {
       "model_id": "7fe9116688644b8e82c8f67022410bd1",
       "version_major": 2,
       "version_minor": 0
      },
      "text/plain": [
       "HBox(children=(IntProgress(value=0, max=1000), HTML(value='')))"
      ]
     },
     "metadata": {},
     "output_type": "display_data"
    },
    {
     "name": "stdout",
     "output_type": "stream",
     "text": [
      "processing 35 iteration\n"
     ]
    },
    {
     "data": {
      "application/vnd.jupyter.widget-view+json": {
       "model_id": "0d8dd52fa45c4660a8dc37cf0968c62d",
       "version_major": 2,
       "version_minor": 0
      },
      "text/plain": [
       "HBox(children=(IntProgress(value=0, max=1000), HTML(value='')))"
      ]
     },
     "metadata": {},
     "output_type": "display_data"
    },
    {
     "name": "stdout",
     "output_type": "stream",
     "text": [
      "processing 36 iteration\n"
     ]
    },
    {
     "data": {
      "application/vnd.jupyter.widget-view+json": {
       "model_id": "c63369397c7b463d94e85572643cada1",
       "version_major": 2,
       "version_minor": 0
      },
      "text/plain": [
       "HBox(children=(IntProgress(value=0, max=1000), HTML(value='')))"
      ]
     },
     "metadata": {},
     "output_type": "display_data"
    },
    {
     "name": "stdout",
     "output_type": "stream",
     "text": [
      "processing 37 iteration\n"
     ]
    },
    {
     "data": {
      "application/vnd.jupyter.widget-view+json": {
       "model_id": "da921cd30b464137b548c171343b5455",
       "version_major": 2,
       "version_minor": 0
      },
      "text/plain": [
       "HBox(children=(IntProgress(value=0, max=1000), HTML(value='')))"
      ]
     },
     "metadata": {},
     "output_type": "display_data"
    },
    {
     "name": "stdout",
     "output_type": "stream",
     "text": [
      "processing 38 iteration\n"
     ]
    },
    {
     "data": {
      "application/vnd.jupyter.widget-view+json": {
       "model_id": "05f17cf0cce245a39d6f3a41f17bf082",
       "version_major": 2,
       "version_minor": 0
      },
      "text/plain": [
       "HBox(children=(IntProgress(value=0, max=1000), HTML(value='')))"
      ]
     },
     "metadata": {},
     "output_type": "display_data"
    },
    {
     "name": "stdout",
     "output_type": "stream",
     "text": [
      "processing 39 iteration\n"
     ]
    },
    {
     "data": {
      "application/vnd.jupyter.widget-view+json": {
       "model_id": "82f00356f17943778251a5e2f7ae7c44",
       "version_major": 2,
       "version_minor": 0
      },
      "text/plain": [
       "HBox(children=(IntProgress(value=0, max=1000), HTML(value='')))"
      ]
     },
     "metadata": {},
     "output_type": "display_data"
    },
    {
     "name": "stdout",
     "output_type": "stream",
     "text": [
      "processing 40 iteration\n"
     ]
    },
    {
     "data": {
      "application/vnd.jupyter.widget-view+json": {
       "model_id": "1f1f2aeff5604fb0b6f4f965dd97b3f0",
       "version_major": 2,
       "version_minor": 0
      },
      "text/plain": [
       "HBox(children=(IntProgress(value=0, max=1000), HTML(value='')))"
      ]
     },
     "metadata": {},
     "output_type": "display_data"
    },
    {
     "name": "stdout",
     "output_type": "stream",
     "text": [
      "processing 41 iteration\n"
     ]
    },
    {
     "data": {
      "application/vnd.jupyter.widget-view+json": {
       "model_id": "664dd76baf3c460da4af028f3e1b5eb1",
       "version_major": 2,
       "version_minor": 0
      },
      "text/plain": [
       "HBox(children=(IntProgress(value=0, max=1000), HTML(value='')))"
      ]
     },
     "metadata": {},
     "output_type": "display_data"
    },
    {
     "name": "stdout",
     "output_type": "stream",
     "text": [
      "processing 42 iteration\n"
     ]
    },
    {
     "data": {
      "application/vnd.jupyter.widget-view+json": {
       "model_id": "dfd4ac0b62d24849b40647bfab5d8eef",
       "version_major": 2,
       "version_minor": 0
      },
      "text/plain": [
       "HBox(children=(IntProgress(value=0, max=1000), HTML(value='')))"
      ]
     },
     "metadata": {},
     "output_type": "display_data"
    },
    {
     "name": "stdout",
     "output_type": "stream",
     "text": [
      "processing 43 iteration\n"
     ]
    },
    {
     "data": {
      "application/vnd.jupyter.widget-view+json": {
       "model_id": "9b5e17f366c140bcad972d2e7a388707",
       "version_major": 2,
       "version_minor": 0
      },
      "text/plain": [
       "HBox(children=(IntProgress(value=0, max=1000), HTML(value='')))"
      ]
     },
     "metadata": {},
     "output_type": "display_data"
    },
    {
     "name": "stdout",
     "output_type": "stream",
     "text": [
      "processing 44 iteration\n"
     ]
    },
    {
     "data": {
      "application/vnd.jupyter.widget-view+json": {
       "model_id": "6365a6d5a645462b985e77d31ffe4ee1",
       "version_major": 2,
       "version_minor": 0
      },
      "text/plain": [
       "HBox(children=(IntProgress(value=0, max=1000), HTML(value='')))"
      ]
     },
     "metadata": {},
     "output_type": "display_data"
    },
    {
     "name": "stdout",
     "output_type": "stream",
     "text": [
      "processing 45 iteration\n"
     ]
    },
    {
     "data": {
      "application/vnd.jupyter.widget-view+json": {
       "model_id": "99aed6f12bae4736b0cdab6ec1bd2d62",
       "version_major": 2,
       "version_minor": 0
      },
      "text/plain": [
       "HBox(children=(IntProgress(value=0, max=1000), HTML(value='')))"
      ]
     },
     "metadata": {},
     "output_type": "display_data"
    },
    {
     "name": "stdout",
     "output_type": "stream",
     "text": [
      "processing 46 iteration\n"
     ]
    },
    {
     "data": {
      "application/vnd.jupyter.widget-view+json": {
       "model_id": "e55fb9bd4efc431eaada308ba13d3e20",
       "version_major": 2,
       "version_minor": 0
      },
      "text/plain": [
       "HBox(children=(IntProgress(value=0, max=1000), HTML(value='')))"
      ]
     },
     "metadata": {},
     "output_type": "display_data"
    },
    {
     "name": "stdout",
     "output_type": "stream",
     "text": [
      "processing 47 iteration\n"
     ]
    },
    {
     "data": {
      "application/vnd.jupyter.widget-view+json": {
       "model_id": "7c4092c08c464e329da374eba8a5841b",
       "version_major": 2,
       "version_minor": 0
      },
      "text/plain": [
       "HBox(children=(IntProgress(value=0, max=1000), HTML(value='')))"
      ]
     },
     "metadata": {},
     "output_type": "display_data"
    },
    {
     "name": "stdout",
     "output_type": "stream",
     "text": [
      "processing 48 iteration\n"
     ]
    },
    {
     "data": {
      "application/vnd.jupyter.widget-view+json": {
       "model_id": "bbe568516c5145b9a4696f300bec269f",
       "version_major": 2,
       "version_minor": 0
      },
      "text/plain": [
       "HBox(children=(IntProgress(value=0, max=1000), HTML(value='')))"
      ]
     },
     "metadata": {},
     "output_type": "display_data"
    },
    {
     "name": "stdout",
     "output_type": "stream",
     "text": [
      "processing 49 iteration\n"
     ]
    },
    {
     "data": {
      "application/vnd.jupyter.widget-view+json": {
       "model_id": "e8a8289832fb435a979e3d78af4c0b04",
       "version_major": 2,
       "version_minor": 0
      },
      "text/plain": [
       "HBox(children=(IntProgress(value=0, max=1000), HTML(value='')))"
      ]
     },
     "metadata": {},
     "output_type": "display_data"
    },
    {
     "name": "stdout",
     "output_type": "stream",
     "text": [
      "processing 50 iteration\n"
     ]
    },
    {
     "data": {
      "application/vnd.jupyter.widget-view+json": {
       "model_id": "5e52ee4a8eac4b14addef0058dc51e30",
       "version_major": 2,
       "version_minor": 0
      },
      "text/plain": [
       "HBox(children=(IntProgress(value=0, max=1000), HTML(value='')))"
      ]
     },
     "metadata": {},
     "output_type": "display_data"
    },
    {
     "name": "stdout",
     "output_type": "stream",
     "text": [
      "processing 51 iteration\n"
     ]
    },
    {
     "data": {
      "application/vnd.jupyter.widget-view+json": {
       "model_id": "452972252e7b43b1a0af852c9d910e46",
       "version_major": 2,
       "version_minor": 0
      },
      "text/plain": [
       "HBox(children=(IntProgress(value=0, max=1000), HTML(value='')))"
      ]
     },
     "metadata": {},
     "output_type": "display_data"
    },
    {
     "name": "stdout",
     "output_type": "stream",
     "text": [
      "processing 52 iteration\n"
     ]
    },
    {
     "data": {
      "application/vnd.jupyter.widget-view+json": {
       "model_id": "5d3f43bcdb9442c8827173d0d28024c1",
       "version_major": 2,
       "version_minor": 0
      },
      "text/plain": [
       "HBox(children=(IntProgress(value=0, max=1000), HTML(value='')))"
      ]
     },
     "metadata": {},
     "output_type": "display_data"
    },
    {
     "name": "stdout",
     "output_type": "stream",
     "text": [
      "processing 53 iteration\n"
     ]
    },
    {
     "data": {
      "application/vnd.jupyter.widget-view+json": {
       "model_id": "e9ba2514622b4ac1a401522fa703b766",
       "version_major": 2,
       "version_minor": 0
      },
      "text/plain": [
       "HBox(children=(IntProgress(value=0, max=1000), HTML(value='')))"
      ]
     },
     "metadata": {},
     "output_type": "display_data"
    },
    {
     "name": "stdout",
     "output_type": "stream",
     "text": [
      "processing 54 iteration\n"
     ]
    },
    {
     "data": {
      "application/vnd.jupyter.widget-view+json": {
       "model_id": "656706547faa47839c1cfc83c7bc1829",
       "version_major": 2,
       "version_minor": 0
      },
      "text/plain": [
       "HBox(children=(IntProgress(value=0, max=1000), HTML(value='')))"
      ]
     },
     "metadata": {},
     "output_type": "display_data"
    },
    {
     "name": "stdout",
     "output_type": "stream",
     "text": [
      "processing 55 iteration\n"
     ]
    },
    {
     "data": {
      "application/vnd.jupyter.widget-view+json": {
       "model_id": "1ecc8900518b4c97ad16bb17c8be175c",
       "version_major": 2,
       "version_minor": 0
      },
      "text/plain": [
       "HBox(children=(IntProgress(value=0, max=1000), HTML(value='')))"
      ]
     },
     "metadata": {},
     "output_type": "display_data"
    },
    {
     "name": "stdout",
     "output_type": "stream",
     "text": [
      "processing 56 iteration\n"
     ]
    },
    {
     "data": {
      "application/vnd.jupyter.widget-view+json": {
       "model_id": "33e685e3754d416082060ff8294de6ea",
       "version_major": 2,
       "version_minor": 0
      },
      "text/plain": [
       "HBox(children=(IntProgress(value=0, max=1000), HTML(value='')))"
      ]
     },
     "metadata": {},
     "output_type": "display_data"
    },
    {
     "name": "stdout",
     "output_type": "stream",
     "text": [
      "processing 57 iteration\n"
     ]
    },
    {
     "data": {
      "application/vnd.jupyter.widget-view+json": {
       "model_id": "ec314f9e895540f1954a95a8df75cd40",
       "version_major": 2,
       "version_minor": 0
      },
      "text/plain": [
       "HBox(children=(IntProgress(value=0, max=1000), HTML(value='')))"
      ]
     },
     "metadata": {},
     "output_type": "display_data"
    },
    {
     "name": "stdout",
     "output_type": "stream",
     "text": [
      "processing 58 iteration\n"
     ]
    },
    {
     "data": {
      "application/vnd.jupyter.widget-view+json": {
       "model_id": "4a1dec6180ad488b9834538c4c9a054d",
       "version_major": 2,
       "version_minor": 0
      },
      "text/plain": [
       "HBox(children=(IntProgress(value=0, max=1000), HTML(value='')))"
      ]
     },
     "metadata": {},
     "output_type": "display_data"
    },
    {
     "name": "stdout",
     "output_type": "stream",
     "text": [
      "processing 59 iteration\n"
     ]
    },
    {
     "data": {
      "application/vnd.jupyter.widget-view+json": {
       "model_id": "527e8a9de24c4da088598699f878d48f",
       "version_major": 2,
       "version_minor": 0
      },
      "text/plain": [
       "HBox(children=(IntProgress(value=0, max=1000), HTML(value='')))"
      ]
     },
     "metadata": {},
     "output_type": "display_data"
    },
    {
     "name": "stdout",
     "output_type": "stream",
     "text": [
      "processing 60 iteration\n"
     ]
    },
    {
     "data": {
      "application/vnd.jupyter.widget-view+json": {
       "model_id": "453e49c972f14028803838db0a1791ce",
       "version_major": 2,
       "version_minor": 0
      },
      "text/plain": [
       "HBox(children=(IntProgress(value=0, max=1000), HTML(value='')))"
      ]
     },
     "metadata": {},
     "output_type": "display_data"
    },
    {
     "name": "stdout",
     "output_type": "stream",
     "text": [
      "processing 61 iteration\n"
     ]
    },
    {
     "data": {
      "application/vnd.jupyter.widget-view+json": {
       "model_id": "4da281f040704a80bd1bbd63ca0cc699",
       "version_major": 2,
       "version_minor": 0
      },
      "text/plain": [
       "HBox(children=(IntProgress(value=0, max=1000), HTML(value='')))"
      ]
     },
     "metadata": {},
     "output_type": "display_data"
    },
    {
     "name": "stdout",
     "output_type": "stream",
     "text": [
      "processing 62 iteration\n"
     ]
    },
    {
     "data": {
      "application/vnd.jupyter.widget-view+json": {
       "model_id": "cd9014aee96745d484f0aba2209f7744",
       "version_major": 2,
       "version_minor": 0
      },
      "text/plain": [
       "HBox(children=(IntProgress(value=0, max=1000), HTML(value='')))"
      ]
     },
     "metadata": {},
     "output_type": "display_data"
    },
    {
     "name": "stdout",
     "output_type": "stream",
     "text": [
      "processing 63 iteration\n"
     ]
    },
    {
     "data": {
      "application/vnd.jupyter.widget-view+json": {
       "model_id": "c346426e96ab4066ab2c6c5f18ce6921",
       "version_major": 2,
       "version_minor": 0
      },
      "text/plain": [
       "HBox(children=(IntProgress(value=0, max=1000), HTML(value='')))"
      ]
     },
     "metadata": {},
     "output_type": "display_data"
    },
    {
     "name": "stdout",
     "output_type": "stream",
     "text": [
      "processing 64 iteration\n"
     ]
    },
    {
     "data": {
      "application/vnd.jupyter.widget-view+json": {
       "model_id": "b76ba7c47025475e8cd7dd7f37f58f22",
       "version_major": 2,
       "version_minor": 0
      },
      "text/plain": [
       "HBox(children=(IntProgress(value=0, max=1000), HTML(value='')))"
      ]
     },
     "metadata": {},
     "output_type": "display_data"
    },
    {
     "name": "stdout",
     "output_type": "stream",
     "text": [
      "processing 65 iteration\n"
     ]
    },
    {
     "data": {
      "application/vnd.jupyter.widget-view+json": {
       "model_id": "47de91c9a8ef438d83654f79903e222f",
       "version_major": 2,
       "version_minor": 0
      },
      "text/plain": [
       "HBox(children=(IntProgress(value=0, max=1000), HTML(value='')))"
      ]
     },
     "metadata": {},
     "output_type": "display_data"
    },
    {
     "name": "stdout",
     "output_type": "stream",
     "text": [
      "processing 66 iteration\n"
     ]
    },
    {
     "data": {
      "application/vnd.jupyter.widget-view+json": {
       "model_id": "b661456e87024f318add6a481ea0ac8e",
       "version_major": 2,
       "version_minor": 0
      },
      "text/plain": [
       "HBox(children=(IntProgress(value=0, max=1000), HTML(value='')))"
      ]
     },
     "metadata": {},
     "output_type": "display_data"
    },
    {
     "name": "stdout",
     "output_type": "stream",
     "text": [
      "processing 67 iteration\n"
     ]
    },
    {
     "data": {
      "application/vnd.jupyter.widget-view+json": {
       "model_id": "98033294ff284396b331fbbee11e8eff",
       "version_major": 2,
       "version_minor": 0
      },
      "text/plain": [
       "HBox(children=(IntProgress(value=0, max=1000), HTML(value='')))"
      ]
     },
     "metadata": {},
     "output_type": "display_data"
    },
    {
     "name": "stdout",
     "output_type": "stream",
     "text": [
      "processing 68 iteration\n"
     ]
    },
    {
     "data": {
      "application/vnd.jupyter.widget-view+json": {
       "model_id": "22d0491d88f04dcaa6d6272417aee248",
       "version_major": 2,
       "version_minor": 0
      },
      "text/plain": [
       "HBox(children=(IntProgress(value=0, max=1000), HTML(value='')))"
      ]
     },
     "metadata": {},
     "output_type": "display_data"
    },
    {
     "name": "stdout",
     "output_type": "stream",
     "text": [
      "processing 69 iteration\n"
     ]
    },
    {
     "data": {
      "application/vnd.jupyter.widget-view+json": {
       "model_id": "2ac311d66b194df69c65ccc03f1f2cac",
       "version_major": 2,
       "version_minor": 0
      },
      "text/plain": [
       "HBox(children=(IntProgress(value=0, max=1000), HTML(value='')))"
      ]
     },
     "metadata": {},
     "output_type": "display_data"
    },
    {
     "name": "stdout",
     "output_type": "stream",
     "text": [
      "processing 70 iteration\n"
     ]
    },
    {
     "data": {
      "application/vnd.jupyter.widget-view+json": {
       "model_id": "fa3df6e77e6a4ebdb3087cb6861e8733",
       "version_major": 2,
       "version_minor": 0
      },
      "text/plain": [
       "HBox(children=(IntProgress(value=0, max=1000), HTML(value='')))"
      ]
     },
     "metadata": {},
     "output_type": "display_data"
    },
    {
     "name": "stdout",
     "output_type": "stream",
     "text": [
      "processing 71 iteration\n"
     ]
    },
    {
     "data": {
      "application/vnd.jupyter.widget-view+json": {
       "model_id": "35fe848ed0e94a129202897043641ab9",
       "version_major": 2,
       "version_minor": 0
      },
      "text/plain": [
       "HBox(children=(IntProgress(value=0, max=1000), HTML(value='')))"
      ]
     },
     "metadata": {},
     "output_type": "display_data"
    },
    {
     "name": "stdout",
     "output_type": "stream",
     "text": [
      "processing 72 iteration\n"
     ]
    },
    {
     "data": {
      "application/vnd.jupyter.widget-view+json": {
       "model_id": "eef494506a9543d8b5365f87dc3add51",
       "version_major": 2,
       "version_minor": 0
      },
      "text/plain": [
       "HBox(children=(IntProgress(value=0, max=1000), HTML(value='')))"
      ]
     },
     "metadata": {},
     "output_type": "display_data"
    },
    {
     "name": "stdout",
     "output_type": "stream",
     "text": [
      "processing 73 iteration\n"
     ]
    },
    {
     "data": {
      "application/vnd.jupyter.widget-view+json": {
       "model_id": "0153427dbacc4eaa81cb87de8471477d",
       "version_major": 2,
       "version_minor": 0
      },
      "text/plain": [
       "HBox(children=(IntProgress(value=0, max=1000), HTML(value='')))"
      ]
     },
     "metadata": {},
     "output_type": "display_data"
    },
    {
     "name": "stdout",
     "output_type": "stream",
     "text": [
      "processing 74 iteration\n"
     ]
    },
    {
     "data": {
      "application/vnd.jupyter.widget-view+json": {
       "model_id": "1f2991ac5ff8491992e59868a1049ffa",
       "version_major": 2,
       "version_minor": 0
      },
      "text/plain": [
       "HBox(children=(IntProgress(value=0, max=1000), HTML(value='')))"
      ]
     },
     "metadata": {},
     "output_type": "display_data"
    },
    {
     "name": "stdout",
     "output_type": "stream",
     "text": [
      "processing 75 iteration\n"
     ]
    },
    {
     "data": {
      "application/vnd.jupyter.widget-view+json": {
       "model_id": "66f45571bf5e4b8dbe89a9066ccb965e",
       "version_major": 2,
       "version_minor": 0
      },
      "text/plain": [
       "HBox(children=(IntProgress(value=0, max=1000), HTML(value='')))"
      ]
     },
     "metadata": {},
     "output_type": "display_data"
    },
    {
     "name": "stdout",
     "output_type": "stream",
     "text": [
      "processing 76 iteration\n"
     ]
    },
    {
     "data": {
      "application/vnd.jupyter.widget-view+json": {
       "model_id": "f8c4a026b6ee47b1879ac1df5cbc6402",
       "version_major": 2,
       "version_minor": 0
      },
      "text/plain": [
       "HBox(children=(IntProgress(value=0, max=1000), HTML(value='')))"
      ]
     },
     "metadata": {},
     "output_type": "display_data"
    },
    {
     "name": "stdout",
     "output_type": "stream",
     "text": [
      "processing 77 iteration\n"
     ]
    },
    {
     "data": {
      "application/vnd.jupyter.widget-view+json": {
       "model_id": "8e3eb362aba94b83b70319d565a6cd7f",
       "version_major": 2,
       "version_minor": 0
      },
      "text/plain": [
       "HBox(children=(IntProgress(value=0, max=1000), HTML(value='')))"
      ]
     },
     "metadata": {},
     "output_type": "display_data"
    },
    {
     "name": "stdout",
     "output_type": "stream",
     "text": [
      "processing 78 iteration\n"
     ]
    },
    {
     "data": {
      "application/vnd.jupyter.widget-view+json": {
       "model_id": "1393c6ca405c48b6906d52a9fc9f5f71",
       "version_major": 2,
       "version_minor": 0
      },
      "text/plain": [
       "HBox(children=(IntProgress(value=0, max=1000), HTML(value='')))"
      ]
     },
     "metadata": {},
     "output_type": "display_data"
    },
    {
     "name": "stdout",
     "output_type": "stream",
     "text": [
      "processing 79 iteration\n"
     ]
    },
    {
     "data": {
      "application/vnd.jupyter.widget-view+json": {
       "model_id": "dcd49720e64d4603a057a8aef52b88bc",
       "version_major": 2,
       "version_minor": 0
      },
      "text/plain": [
       "HBox(children=(IntProgress(value=0, max=1000), HTML(value='')))"
      ]
     },
     "metadata": {},
     "output_type": "display_data"
    },
    {
     "name": "stdout",
     "output_type": "stream",
     "text": [
      "processing 80 iteration\n"
     ]
    },
    {
     "data": {
      "application/vnd.jupyter.widget-view+json": {
       "model_id": "144a9eca83ee455ebf6aa282d6104bbe",
       "version_major": 2,
       "version_minor": 0
      },
      "text/plain": [
       "HBox(children=(IntProgress(value=0, max=1000), HTML(value='')))"
      ]
     },
     "metadata": {},
     "output_type": "display_data"
    },
    {
     "name": "stdout",
     "output_type": "stream",
     "text": [
      "processing 81 iteration\n"
     ]
    },
    {
     "data": {
      "application/vnd.jupyter.widget-view+json": {
       "model_id": "cbd4f56f050a45c7a82b63ce1664dddd",
       "version_major": 2,
       "version_minor": 0
      },
      "text/plain": [
       "HBox(children=(IntProgress(value=0, max=1000), HTML(value='')))"
      ]
     },
     "metadata": {},
     "output_type": "display_data"
    },
    {
     "name": "stdout",
     "output_type": "stream",
     "text": [
      "processing 82 iteration\n"
     ]
    },
    {
     "data": {
      "application/vnd.jupyter.widget-view+json": {
       "model_id": "05c9fba6a99f4ad698dfb75e56ae26b2",
       "version_major": 2,
       "version_minor": 0
      },
      "text/plain": [
       "HBox(children=(IntProgress(value=0, max=1000), HTML(value='')))"
      ]
     },
     "metadata": {},
     "output_type": "display_data"
    },
    {
     "name": "stdout",
     "output_type": "stream",
     "text": [
      "\n",
      "processing 83 iteration\n"
     ]
    },
    {
     "data": {
      "application/vnd.jupyter.widget-view+json": {
       "model_id": "fca3e79ecc194b86a7c264cde4da4012",
       "version_major": 2,
       "version_minor": 0
      },
      "text/plain": [
       "HBox(children=(IntProgress(value=0, max=1000), HTML(value='')))"
      ]
     },
     "metadata": {},
     "output_type": "display_data"
    },
    {
     "name": "stdout",
     "output_type": "stream",
     "text": [
      "processing 84 iteration\n"
     ]
    },
    {
     "data": {
      "application/vnd.jupyter.widget-view+json": {
       "model_id": "6458dd6c5dab464c822e52f251824b2e",
       "version_major": 2,
       "version_minor": 0
      },
      "text/plain": [
       "HBox(children=(IntProgress(value=0, max=1000), HTML(value='')))"
      ]
     },
     "metadata": {},
     "output_type": "display_data"
    },
    {
     "name": "stdout",
     "output_type": "stream",
     "text": [
      "processing 85 iteration\n"
     ]
    },
    {
     "data": {
      "application/vnd.jupyter.widget-view+json": {
       "model_id": "75e86c140e6f4b0d86c4bfd58ea8583f",
       "version_major": 2,
       "version_minor": 0
      },
      "text/plain": [
       "HBox(children=(IntProgress(value=0, max=1000), HTML(value='')))"
      ]
     },
     "metadata": {},
     "output_type": "display_data"
    },
    {
     "name": "stdout",
     "output_type": "stream",
     "text": [
      "processing 86 iteration\n"
     ]
    },
    {
     "data": {
      "application/vnd.jupyter.widget-view+json": {
       "model_id": "dc1bb173f17a48fea17f330d42daebd0",
       "version_major": 2,
       "version_minor": 0
      },
      "text/plain": [
       "HBox(children=(IntProgress(value=0, max=1000), HTML(value='')))"
      ]
     },
     "metadata": {},
     "output_type": "display_data"
    },
    {
     "name": "stdout",
     "output_type": "stream",
     "text": [
      "processing 87 iteration\n"
     ]
    },
    {
     "data": {
      "application/vnd.jupyter.widget-view+json": {
       "model_id": "6760302c5e424601b7cd0e03fba541f9",
       "version_major": 2,
       "version_minor": 0
      },
      "text/plain": [
       "HBox(children=(IntProgress(value=0, max=1000), HTML(value='')))"
      ]
     },
     "metadata": {},
     "output_type": "display_data"
    },
    {
     "name": "stdout",
     "output_type": "stream",
     "text": [
      "processing 88 iteration\n"
     ]
    },
    {
     "data": {
      "application/vnd.jupyter.widget-view+json": {
       "model_id": "6c5e5a819504477c8d9cfba80d61e35b",
       "version_major": 2,
       "version_minor": 0
      },
      "text/plain": [
       "HBox(children=(IntProgress(value=0, max=1000), HTML(value='')))"
      ]
     },
     "metadata": {},
     "output_type": "display_data"
    },
    {
     "name": "stdout",
     "output_type": "stream",
     "text": [
      "processing 89 iteration\n"
     ]
    },
    {
     "data": {
      "application/vnd.jupyter.widget-view+json": {
       "model_id": "6e9d87503036441bb699e7f36de22603",
       "version_major": 2,
       "version_minor": 0
      },
      "text/plain": [
       "HBox(children=(IntProgress(value=0, max=1000), HTML(value='')))"
      ]
     },
     "metadata": {},
     "output_type": "display_data"
    },
    {
     "name": "stdout",
     "output_type": "stream",
     "text": [
      "processing 90 iteration\n"
     ]
    },
    {
     "data": {
      "application/vnd.jupyter.widget-view+json": {
       "model_id": "6aad704bd85c41a196f5b0a0ba544ca9",
       "version_major": 2,
       "version_minor": 0
      },
      "text/plain": [
       "HBox(children=(IntProgress(value=0, max=1000), HTML(value='')))"
      ]
     },
     "metadata": {},
     "output_type": "display_data"
    },
    {
     "name": "stdout",
     "output_type": "stream",
     "text": [
      "processing 91 iteration\n"
     ]
    },
    {
     "data": {
      "application/vnd.jupyter.widget-view+json": {
       "model_id": "f43340ed7533479abb9ead0038f6d8ee",
       "version_major": 2,
       "version_minor": 0
      },
      "text/plain": [
       "HBox(children=(IntProgress(value=0, max=1000), HTML(value='')))"
      ]
     },
     "metadata": {},
     "output_type": "display_data"
    },
    {
     "name": "stdout",
     "output_type": "stream",
     "text": [
      "processing 92 iteration\n"
     ]
    },
    {
     "data": {
      "application/vnd.jupyter.widget-view+json": {
       "model_id": "5fc37edd8192463ba8d61d3d8a49c647",
       "version_major": 2,
       "version_minor": 0
      },
      "text/plain": [
       "HBox(children=(IntProgress(value=0, max=1000), HTML(value='')))"
      ]
     },
     "metadata": {},
     "output_type": "display_data"
    },
    {
     "name": "stdout",
     "output_type": "stream",
     "text": [
      "processing 93 iteration\n"
     ]
    },
    {
     "data": {
      "application/vnd.jupyter.widget-view+json": {
       "model_id": "44f3fc9a4e1947798a076ddd0d8ce298",
       "version_major": 2,
       "version_minor": 0
      },
      "text/plain": [
       "HBox(children=(IntProgress(value=0, max=1000), HTML(value='')))"
      ]
     },
     "metadata": {},
     "output_type": "display_data"
    },
    {
     "name": "stdout",
     "output_type": "stream",
     "text": [
      "processing 94 iteration\n"
     ]
    },
    {
     "data": {
      "application/vnd.jupyter.widget-view+json": {
       "model_id": "81e3f61f444f4dd0866d873ef9fcb417",
       "version_major": 2,
       "version_minor": 0
      },
      "text/plain": [
       "HBox(children=(IntProgress(value=0, max=1000), HTML(value='')))"
      ]
     },
     "metadata": {},
     "output_type": "display_data"
    },
    {
     "name": "stdout",
     "output_type": "stream",
     "text": [
      "processing 95 iteration\n"
     ]
    },
    {
     "data": {
      "application/vnd.jupyter.widget-view+json": {
       "model_id": "c4b1430f68c344c3a77c5b93403ed74f",
       "version_major": 2,
       "version_minor": 0
      },
      "text/plain": [
       "HBox(children=(IntProgress(value=0, max=1000), HTML(value='')))"
      ]
     },
     "metadata": {},
     "output_type": "display_data"
    },
    {
     "name": "stdout",
     "output_type": "stream",
     "text": [
      "processing 96 iteration\n"
     ]
    },
    {
     "data": {
      "application/vnd.jupyter.widget-view+json": {
       "model_id": "139115f1775a4af5bf9fee38c6b9a41c",
       "version_major": 2,
       "version_minor": 0
      },
      "text/plain": [
       "HBox(children=(IntProgress(value=0, max=1000), HTML(value='')))"
      ]
     },
     "metadata": {},
     "output_type": "display_data"
    },
    {
     "name": "stdout",
     "output_type": "stream",
     "text": [
      "processing 97 iteration\n"
     ]
    },
    {
     "data": {
      "application/vnd.jupyter.widget-view+json": {
       "model_id": "cdc24f1a6f594c51a044474f43ba11b8",
       "version_major": 2,
       "version_minor": 0
      },
      "text/plain": [
       "HBox(children=(IntProgress(value=0, max=1000), HTML(value='')))"
      ]
     },
     "metadata": {},
     "output_type": "display_data"
    },
    {
     "name": "stdout",
     "output_type": "stream",
     "text": [
      "processing 98 iteration\n"
     ]
    },
    {
     "data": {
      "application/vnd.jupyter.widget-view+json": {
       "model_id": "ecfa58955568414eb142b5519d6ed762",
       "version_major": 2,
       "version_minor": 0
      },
      "text/plain": [
       "HBox(children=(IntProgress(value=0, max=1000), HTML(value='')))"
      ]
     },
     "metadata": {},
     "output_type": "display_data"
    },
    {
     "name": "stdout",
     "output_type": "stream",
     "text": [
      "processing 99 iteration\n"
     ]
    },
    {
     "data": {
      "application/vnd.jupyter.widget-view+json": {
       "model_id": "b9c942ccfb024efeae5084ef4462f913",
       "version_major": 2,
       "version_minor": 0
      },
      "text/plain": [
       "HBox(children=(IntProgress(value=0, max=1000), HTML(value='')))"
      ]
     },
     "metadata": {},
     "output_type": "display_data"
    },
    {
     "name": "stdout",
     "output_type": "stream",
     "text": [
      "processing 100 iteration\n"
     ]
    },
    {
     "data": {
      "application/vnd.jupyter.widget-view+json": {
       "model_id": "5061bdfb7f604e908047d7ed9a9d1fdc",
       "version_major": 2,
       "version_minor": 0
      },
      "text/plain": [
       "HBox(children=(IntProgress(value=0, max=1000), HTML(value='')))"
      ]
     },
     "metadata": {},
     "output_type": "display_data"
    },
    {
     "name": "stdout",
     "output_type": "stream",
     "text": [
      "processing 101 iteration\n"
     ]
    },
    {
     "data": {
      "application/vnd.jupyter.widget-view+json": {
       "model_id": "927003c4f37d421e9111d3c884203825",
       "version_major": 2,
       "version_minor": 0
      },
      "text/plain": [
       "HBox(children=(IntProgress(value=0, max=1000), HTML(value='')))"
      ]
     },
     "metadata": {},
     "output_type": "display_data"
    },
    {
     "name": "stdout",
     "output_type": "stream",
     "text": [
      "processing 102 iteration\n"
     ]
    },
    {
     "data": {
      "application/vnd.jupyter.widget-view+json": {
       "model_id": "8f1729bbc78542828f39f9d4db41812c",
       "version_major": 2,
       "version_minor": 0
      },
      "text/plain": [
       "HBox(children=(IntProgress(value=0, max=1000), HTML(value='')))"
      ]
     },
     "metadata": {},
     "output_type": "display_data"
    },
    {
     "name": "stdout",
     "output_type": "stream",
     "text": [
      "processing 103 iteration\n"
     ]
    },
    {
     "data": {
      "application/vnd.jupyter.widget-view+json": {
       "model_id": "d69da9060b25440e99de95bdaf070575",
       "version_major": 2,
       "version_minor": 0
      },
      "text/plain": [
       "HBox(children=(IntProgress(value=0, max=1000), HTML(value='')))"
      ]
     },
     "metadata": {},
     "output_type": "display_data"
    },
    {
     "name": "stdout",
     "output_type": "stream",
     "text": [
      "processing 104 iteration\n"
     ]
    },
    {
     "data": {
      "application/vnd.jupyter.widget-view+json": {
       "model_id": "17004283ffec48e58fc9173c4c2b6556",
       "version_major": 2,
       "version_minor": 0
      },
      "text/plain": [
       "HBox(children=(IntProgress(value=0, max=1000), HTML(value='')))"
      ]
     },
     "metadata": {},
     "output_type": "display_data"
    },
    {
     "name": "stdout",
     "output_type": "stream",
     "text": [
      "processing 105 iteration\n"
     ]
    },
    {
     "data": {
      "application/vnd.jupyter.widget-view+json": {
       "model_id": "9a4452f9d7a74033b9bf10a140c689b0",
       "version_major": 2,
       "version_minor": 0
      },
      "text/plain": [
       "HBox(children=(IntProgress(value=0, max=1000), HTML(value='')))"
      ]
     },
     "metadata": {},
     "output_type": "display_data"
    },
    {
     "name": "stdout",
     "output_type": "stream",
     "text": [
      "processing 106 iteration\n"
     ]
    },
    {
     "data": {
      "application/vnd.jupyter.widget-view+json": {
       "model_id": "c58b675531e24bffac77393a54ac9a05",
       "version_major": 2,
       "version_minor": 0
      },
      "text/plain": [
       "HBox(children=(IntProgress(value=0, max=1000), HTML(value='')))"
      ]
     },
     "metadata": {},
     "output_type": "display_data"
    },
    {
     "name": "stdout",
     "output_type": "stream",
     "text": [
      "processing 107 iteration\n"
     ]
    },
    {
     "data": {
      "application/vnd.jupyter.widget-view+json": {
       "model_id": "b824c08492d249eeb32dfceab786d42a",
       "version_major": 2,
       "version_minor": 0
      },
      "text/plain": [
       "HBox(children=(IntProgress(value=0, max=1000), HTML(value='')))"
      ]
     },
     "metadata": {},
     "output_type": "display_data"
    },
    {
     "name": "stdout",
     "output_type": "stream",
     "text": [
      "processing 108 iteration\n"
     ]
    },
    {
     "data": {
      "application/vnd.jupyter.widget-view+json": {
       "model_id": "8848f89bd976498b872e257a303971f9",
       "version_major": 2,
       "version_minor": 0
      },
      "text/plain": [
       "HBox(children=(IntProgress(value=0, max=1000), HTML(value='')))"
      ]
     },
     "metadata": {},
     "output_type": "display_data"
    },
    {
     "name": "stdout",
     "output_type": "stream",
     "text": [
      "processing 109 iteration\n"
     ]
    },
    {
     "data": {
      "application/vnd.jupyter.widget-view+json": {
       "model_id": "c36a889f01f94525a551386f45e69de2",
       "version_major": 2,
       "version_minor": 0
      },
      "text/plain": [
       "HBox(children=(IntProgress(value=0, max=1000), HTML(value='')))"
      ]
     },
     "metadata": {},
     "output_type": "display_data"
    },
    {
     "name": "stdout",
     "output_type": "stream",
     "text": [
      "processing 110 iteration\n"
     ]
    },
    {
     "data": {
      "application/vnd.jupyter.widget-view+json": {
       "model_id": "c78ccd9a40514c9da2c60a19e835cbca",
       "version_major": 2,
       "version_minor": 0
      },
      "text/plain": [
       "HBox(children=(IntProgress(value=0, max=1000), HTML(value='')))"
      ]
     },
     "metadata": {},
     "output_type": "display_data"
    },
    {
     "name": "stdout",
     "output_type": "stream",
     "text": [
      "processing 111 iteration\n"
     ]
    },
    {
     "data": {
      "application/vnd.jupyter.widget-view+json": {
       "model_id": "eab0c89073dc4c2bb4c6c695aaf9a207",
       "version_major": 2,
       "version_minor": 0
      },
      "text/plain": [
       "HBox(children=(IntProgress(value=0, max=1000), HTML(value='')))"
      ]
     },
     "metadata": {},
     "output_type": "display_data"
    },
    {
     "name": "stdout",
     "output_type": "stream",
     "text": [
      "processing 112 iteration\n"
     ]
    },
    {
     "data": {
      "application/vnd.jupyter.widget-view+json": {
       "model_id": "0797b5f29cbb4becbc3633f2bc2371a2",
       "version_major": 2,
       "version_minor": 0
      },
      "text/plain": [
       "HBox(children=(IntProgress(value=0, max=1000), HTML(value='')))"
      ]
     },
     "metadata": {},
     "output_type": "display_data"
    },
    {
     "name": "stdout",
     "output_type": "stream",
     "text": [
      "processing 113 iteration\n"
     ]
    },
    {
     "data": {
      "application/vnd.jupyter.widget-view+json": {
       "model_id": "ace49b7a08034728983431f59d7b6b99",
       "version_major": 2,
       "version_minor": 0
      },
      "text/plain": [
       "HBox(children=(IntProgress(value=0, max=1000), HTML(value='')))"
      ]
     },
     "metadata": {},
     "output_type": "display_data"
    },
    {
     "name": "stdout",
     "output_type": "stream",
     "text": [
      "processing 114 iteration\n"
     ]
    },
    {
     "data": {
      "application/vnd.jupyter.widget-view+json": {
       "model_id": "4698936060fe479d927ad81ca3025b9d",
       "version_major": 2,
       "version_minor": 0
      },
      "text/plain": [
       "HBox(children=(IntProgress(value=0, max=1000), HTML(value='')))"
      ]
     },
     "metadata": {},
     "output_type": "display_data"
    },
    {
     "name": "stdout",
     "output_type": "stream",
     "text": [
      "processing 115 iteration\n"
     ]
    },
    {
     "data": {
      "application/vnd.jupyter.widget-view+json": {
       "model_id": "d40fd4d8d34e4a8f9c238a8557e2964f",
       "version_major": 2,
       "version_minor": 0
      },
      "text/plain": [
       "HBox(children=(IntProgress(value=0, max=1000), HTML(value='')))"
      ]
     },
     "metadata": {},
     "output_type": "display_data"
    },
    {
     "name": "stdout",
     "output_type": "stream",
     "text": [
      "processing 116 iteration\n"
     ]
    },
    {
     "data": {
      "application/vnd.jupyter.widget-view+json": {
       "model_id": "7d100b4142744b428987a980fa480d46",
       "version_major": 2,
       "version_minor": 0
      },
      "text/plain": [
       "HBox(children=(IntProgress(value=0, max=1000), HTML(value='')))"
      ]
     },
     "metadata": {},
     "output_type": "display_data"
    },
    {
     "name": "stdout",
     "output_type": "stream",
     "text": [
      "processing 117 iteration\n"
     ]
    },
    {
     "data": {
      "application/vnd.jupyter.widget-view+json": {
       "model_id": "835d586e595b4855ac22c941eb5b71f8",
       "version_major": 2,
       "version_minor": 0
      },
      "text/plain": [
       "HBox(children=(IntProgress(value=0, max=1000), HTML(value='')))"
      ]
     },
     "metadata": {},
     "output_type": "display_data"
    },
    {
     "name": "stdout",
     "output_type": "stream",
     "text": [
      "processing 118 iteration\n"
     ]
    },
    {
     "data": {
      "application/vnd.jupyter.widget-view+json": {
       "model_id": "3f275ec642674098a11cfd18673b288d",
       "version_major": 2,
       "version_minor": 0
      },
      "text/plain": [
       "HBox(children=(IntProgress(value=0, max=1000), HTML(value='')))"
      ]
     },
     "metadata": {},
     "output_type": "display_data"
    },
    {
     "name": "stdout",
     "output_type": "stream",
     "text": [
      "processing 119 iteration\n"
     ]
    },
    {
     "data": {
      "application/vnd.jupyter.widget-view+json": {
       "model_id": "6ca7edd9b0b24ebba54a9afbe0bb4992",
       "version_major": 2,
       "version_minor": 0
      },
      "text/plain": [
       "HBox(children=(IntProgress(value=0, max=1000), HTML(value='')))"
      ]
     },
     "metadata": {},
     "output_type": "display_data"
    },
    {
     "name": "stdout",
     "output_type": "stream",
     "text": [
      "processing 120 iteration\n"
     ]
    },
    {
     "data": {
      "application/vnd.jupyter.widget-view+json": {
       "model_id": "ce06c7a136a14c6aa9ebd48b147cf363",
       "version_major": 2,
       "version_minor": 0
      },
      "text/plain": [
       "HBox(children=(IntProgress(value=0, max=1000), HTML(value='')))"
      ]
     },
     "metadata": {},
     "output_type": "display_data"
    },
    {
     "name": "stdout",
     "output_type": "stream",
     "text": [
      "processing 121 iteration\n"
     ]
    },
    {
     "data": {
      "application/vnd.jupyter.widget-view+json": {
       "model_id": "1a971040162b4e32ad9f1c40a094c706",
       "version_major": 2,
       "version_minor": 0
      },
      "text/plain": [
       "HBox(children=(IntProgress(value=0, max=1000), HTML(value='')))"
      ]
     },
     "metadata": {},
     "output_type": "display_data"
    },
    {
     "name": "stdout",
     "output_type": "stream",
     "text": [
      "processing 122 iteration\n"
     ]
    },
    {
     "data": {
      "application/vnd.jupyter.widget-view+json": {
       "model_id": "76470373c772416db90e2f37c0f277df",
       "version_major": 2,
       "version_minor": 0
      },
      "text/plain": [
       "HBox(children=(IntProgress(value=0, max=1000), HTML(value='')))"
      ]
     },
     "metadata": {},
     "output_type": "display_data"
    },
    {
     "name": "stdout",
     "output_type": "stream",
     "text": [
      "processing 123 iteration\n"
     ]
    },
    {
     "data": {
      "application/vnd.jupyter.widget-view+json": {
       "model_id": "fdcb83557f16488582dd8fea57bb61db",
       "version_major": 2,
       "version_minor": 0
      },
      "text/plain": [
       "HBox(children=(IntProgress(value=0, max=1000), HTML(value='')))"
      ]
     },
     "metadata": {},
     "output_type": "display_data"
    },
    {
     "name": "stdout",
     "output_type": "stream",
     "text": [
      "processing 124 iteration\n"
     ]
    },
    {
     "data": {
      "application/vnd.jupyter.widget-view+json": {
       "model_id": "16ec1045502e488f85cb6cedae837d99",
       "version_major": 2,
       "version_minor": 0
      },
      "text/plain": [
       "HBox(children=(IntProgress(value=0, max=1000), HTML(value='')))"
      ]
     },
     "metadata": {},
     "output_type": "display_data"
    },
    {
     "name": "stdout",
     "output_type": "stream",
     "text": [
      "processing 125 iteration\n"
     ]
    },
    {
     "data": {
      "application/vnd.jupyter.widget-view+json": {
       "model_id": "22cda7527090496581d3ba97ca8e66dd",
       "version_major": 2,
       "version_minor": 0
      },
      "text/plain": [
       "HBox(children=(IntProgress(value=0, max=1000), HTML(value='')))"
      ]
     },
     "metadata": {},
     "output_type": "display_data"
    },
    {
     "name": "stdout",
     "output_type": "stream",
     "text": [
      "processing 126 iteration\n"
     ]
    }
   ],
   "source": [
    "properties = [\"pretty_formula\",\"unit_cell_formula\", \"structure\",\"energy\",\"energy_per_atom\",\"band_gap\",\"is_hubbard\",\"hubbards\",\"is_compatible\",\"icsd_ids\",\"elasticity\",\"piezo\",\"diel\",\"formation_energy_per_atom\"]\n",
    "results = []\n",
    "for i,sublist in enumerate(sublists):\n",
    "    print(f\"processing {i} iteration\")\n",
    "    try:\n",
    "        results = results + downloader.query({\"material_id\":{\"$in\": sublist}}, properties)\n",
    "    except:\n",
    "        continue"
   ]
  },
  {
   "cell_type": "code",
   "execution_count": null,
   "metadata": {},
   "outputs": [
    {
     "name": "stdout",
     "output_type": "stream",
     "text": [
      "{'@module': 'pymatgen.entries.computed_entries', '@class': 'ComputedEntry', 'energy': -48.77006521, 'composition': defaultdict(<class 'float'>, {'Zr': 1.0, 'B': 6.0}), 'correction': 0, 'parameters': {'run_type': 'GGA', 'is_hubbard': False, 'pseudo_potential': {'functional': 'PBE', 'labels': ['Zr_sv', 'B'], 'pot_type': 'paw'}, 'hubbards': {}, 'potcar_symbols': ['PBE Zr_sv', 'PBE B'], 'oxide_type': 'None'}, 'data': {'oxide_type': 'None', 'icsd_ids': []}, 'entry_id': 'mp-1001788'}\n",
      "{'@module': 'pymatgen.entries.computed_entries', '@class': 'ComputedEntry', 'energy': -13.57591437, 'composition': defaultdict(<class 'float'>, {'Si': 1.0, 'C': 1.0}), 'correction': 0, 'parameters': {'run_type': 'GGA', 'is_hubbard': False, 'pseudo_potential': {'functional': 'PBE', 'labels': ['Si', 'C'], 'pot_type': 'paw'}, 'hubbards': {}, 'potcar_symbols': ['PBE Si', 'PBE C'], 'oxide_type': 'None'}, 'data': {'oxide_type': 'None', 'icsd_ids': [182362]}, 'entry_id': 'mp-1002206'}\n",
      "{'@module': 'pymatgen.entries.computed_entries', '@class': 'ComputedEntry', 'energy': -10.35292051, 'composition': defaultdict(<class 'float'>, {'H': 1.0, 'Pb': 1.0, 'I': 3.0}), 'correction': 0, 'parameters': {'run_type': 'GGA', 'is_hubbard': False, 'pseudo_potential': {'functional': 'PBE', 'labels': ['H', 'Pb_d', 'I'], 'pot_type': 'paw'}, 'hubbards': {}, 'potcar_symbols': ['PBE H', 'PBE Pb_d', 'PBE I'], 'oxide_type': 'None'}, 'data': {'oxide_type': 'None', 'icsd_ids': []}, 'entry_id': 'mp-1004524'}\n",
      "{'@module': 'pymatgen.entries.computed_entries', '@class': 'ComputedEntry', 'energy': -7.17851166, 'composition': defaultdict(<class 'float'>, {'Br': 2.0, 'Cl': 2.0}), 'correction': 0, 'parameters': {'run_type': 'GGA', 'is_hubbard': False, 'pseudo_potential': {'functional': 'PBE', 'labels': ['Br', 'Cl'], 'pot_type': 'paw'}, 'hubbards': {}, 'potcar_symbols': ['PBE Br', 'PBE Cl'], 'oxide_type': 'None'}, 'data': {'oxide_type': 'None', 'icsd_ids': []}, 'entry_id': 'mp-1008492'}\n",
      "{'@module': 'pymatgen.entries.computed_entries', '@class': 'ComputedEntry', 'energy': -82.702026, 'composition': defaultdict(<class 'float'>, {'Eu': 2.0, 'Fe': 2.0, 'O': 6.0}), 'correction': -9.679739999999999, 'parameters': {'run_type': 'GGA+U', 'is_hubbard': True, 'pseudo_potential': {'functional': 'PBE', 'labels': ['Eu', 'Fe_pv', 'O'], 'pot_type': 'paw'}, 'hubbards': {'Eu': 0.0, 'Fe': 5.3, 'O': 0.0}, 'potcar_symbols': ['PBE Eu', 'PBE Fe_pv', 'PBE O'], 'oxide_type': 'oxide'}, 'data': {'oxide_type': 'oxide', 'icsd_ids': []}, 'entry_id': 'mp-1011260'}\n",
      "{'@module': 'pymatgen.entries.computed_entries', '@class': 'ComputedEntry', 'energy': -434.47979236, 'composition': defaultdict(<class 'float'>, {'Li': 12.0, 'Ni': 8.0, 'Ge': 12.0, 'O': 48.0}), 'correction': -51.021919999999994, 'parameters': {'run_type': 'GGA+U', 'is_hubbard': True, 'pseudo_potential': {'functional': 'PBE', 'labels': ['Li_sv', 'Ni_pv', 'Ge_d', 'O'], 'pot_type': 'paw'}, 'hubbards': {'Li': 0.0, 'Ni': 6.2, 'Ge': 0.0, 'O': 0.0}, 'potcar_symbols': ['PBE Li_sv', 'PBE Ni_pv', 'PBE Ge_d', 'PBE O'], 'oxide_type': 'oxide'}, 'data': {'oxide_type': 'oxide', 'icsd_ids': []}, 'entry_id': 'mp-1013796'}\n",
      "{'@module': 'pymatgen.entries.computed_entries', '@class': 'ComputedEntry', 'energy': -284.31040384, 'composition': defaultdict(<class 'float'>, {'Li': 2.0, 'Mo': 6.0, 'P': 6.0, 'O': 26.0}), 'correction': -39.445539999999994, 'parameters': {'run_type': 'GGA+U', 'is_hubbard': True, 'pseudo_potential': {'functional': 'PBE', 'labels': ['Li_sv', 'Mo_pv', 'P', 'O'], 'pot_type': 'paw'}, 'hubbards': {'Li': 0.0, 'Mo': 4.38, 'P': 0.0, 'O': 0.0}, 'potcar_symbols': ['PBE Li_sv', 'PBE Mo_pv', 'PBE P', 'PBE O'], 'oxide_type': 'oxide'}, 'data': {'oxide_type': 'oxide', 'icsd_ids': []}, 'entry_id': 'mp-1013898'}\n",
      "{'@module': 'pymatgen.entries.computed_entries', '@class': 'ComputedEntry', 'energy': -32.72898362, 'composition': defaultdict(<class 'float'>, {'Sc': 3.0, 'Sn': 1.0, 'B': 1.0}), 'correction': 0, 'parameters': {'run_type': 'GGA', 'is_hubbard': False, 'pseudo_potential': {'functional': 'PBE', 'labels': ['Sc_sv', 'Sn_d', 'B'], 'pot_type': 'paw'}, 'hubbards': {}, 'potcar_symbols': ['PBE Sc_sv', 'PBE Sn_d', 'PBE B'], 'oxide_type': 'None'}, 'data': {'oxide_type': 'None', 'icsd_ids': [167912, 44585, 167913, 167914]}, 'entry_id': 'mp-10139'}\n",
      "{'@module': 'pymatgen.entries.computed_entries', '@class': 'ComputedEntry', 'energy': -25.94290536, 'composition': defaultdict(<class 'float'>, {'Na': 2.0, 'Ga': 2.0, 'Te': 4.0}), 'correction': 0, 'parameters': {'run_type': 'GGA', 'is_hubbard': False, 'pseudo_potential': {'functional': 'PBE', 'labels': ['Na_pv', 'Ga_d', 'Te'], 'pot_type': 'paw'}, 'hubbards': {}, 'potcar_symbols': ['PBE Na_pv', 'PBE Ga_d', 'PBE Te'], 'oxide_type': 'None'}, 'data': {'oxide_type': 'None', 'icsd_ids': [44702]}, 'entry_id': 'mp-10164'}\n",
      "{'@module': 'pymatgen.entries.computed_entries', '@class': 'ComputedEntry', 'energy': -24.58593857, 'composition': defaultdict(<class 'float'>, {'Nb': 1.0, 'In': 1.0, 'S': 2.0}), 'correction': -1.32692, 'parameters': {'run_type': 'GGA', 'is_hubbard': False, 'pseudo_potential': {'functional': 'PBE', 'labels': ['Nb_pv', 'In_d', 'S'], 'pot_type': 'paw'}, 'hubbards': {}, 'potcar_symbols': ['PBE Nb_pv', 'PBE In_d', 'PBE S'], 'oxide_type': 'None'}, 'data': {'oxide_type': 'None', 'icsd_ids': [640054]}, 'entry_id': 'mp-1018022'}\n",
      "{'@module': 'pymatgen.entries.computed_entries', '@class': 'ComputedEntry', 'energy': -31.36132747, 'composition': defaultdict(<class 'float'>, {'La': 2.0, 'N': 2.0}), 'correction': 0, 'parameters': {'run_type': 'GGA', 'is_hubbard': False, 'pseudo_potential': {'functional': 'PBE', 'labels': ['La', 'N'], 'pot_type': 'paw'}, 'hubbards': {}, 'potcar_symbols': ['PBE La', 'PBE N'], 'oxide_type': 'None'}, 'data': {'oxide_type': 'None', 'icsd_ids': [423892, 186436]}, 'entry_id': 'mp-1018049'}\n",
      "{'@module': 'pymatgen.entries.computed_entries', '@class': 'ComputedEntry', 'energy': -26.94287742, 'composition': defaultdict(<class 'float'>, {'Y': 1.0, 'Cu': 2.0, 'S': 2.0}), 'correction': -1.32692, 'parameters': {'run_type': 'GGA', 'is_hubbard': False, 'pseudo_potential': {'functional': 'PBE', 'labels': ['Y_sv', 'Cu_pv', 'S'], 'pot_type': 'paw'}, 'hubbards': {}, 'potcar_symbols': ['PBE Y_sv', 'PBE Cu_pv', 'PBE S'], 'oxide_type': 'None'}, 'data': {'oxide_type': 'None', 'icsd_ids': []}, 'entry_id': 'mp-1018642'}\n",
      "{'@module': 'pymatgen.entries.computed_entries', '@class': 'ComputedEntry', 'energy': -30.93354014, 'composition': defaultdict(<class 'float'>, {'Sm': 2.0, 'Sb': 2.0, 'Te': 2.0}), 'correction': 0, 'parameters': {'run_type': 'GGA', 'is_hubbard': False, 'pseudo_potential': {'functional': 'PBE', 'labels': ['Sm_3', 'Sb', 'Te'], 'pot_type': 'paw'}, 'hubbards': {}, 'potcar_symbols': ['PBE Sm_3', 'PBE Sb', 'PBE Te'], 'oxide_type': 'None'}, 'data': {'oxide_type': 'None', 'icsd_ids': [602285]}, 'entry_id': 'mp-1019138'}\n",
      "{'@module': 'pymatgen.entries.computed_entries', '@class': 'ComputedEntry', 'energy': -244.4577815, 'composition': defaultdict(<class 'float'>, {'Ba': 4.0, 'Eu': 8.0, 'O': 16.0}), 'correction': -11.23664, 'parameters': {'run_type': 'GGA', 'is_hubbard': False, 'pseudo_potential': {'functional': 'PBE', 'labels': ['Ba_sv', 'Eu', 'O'], 'pot_type': 'paw'}, 'hubbards': {}, 'potcar_symbols': ['PBE Ba_sv', 'PBE Eu', 'PBE O'], 'oxide_type': 'oxide'}, 'data': {'oxide_type': 'oxide', 'icsd_ids': [427486]}, 'entry_id': 'mp-1019738'}\n",
      "{'@module': 'pymatgen.entries.computed_entries', '@class': 'ComputedEntry', 'energy': -35.73297304, 'composition': defaultdict(<class 'float'>, {'Mg': 1.0, 'Al': 1.0, 'F': 5.0}), 'correction': 0, 'parameters': {'run_type': 'GGA', 'is_hubbard': False, 'pseudo_potential': {'functional': 'PBE', 'labels': ['Mg_pv', 'Al', 'F'], 'pot_type': 'paw'}, 'hubbards': {}, 'potcar_symbols': ['PBE Mg_pv', 'PBE Al', 'PBE F'], 'oxide_type': 'None'}, 'data': {'oxide_type': 'None', 'icsd_ids': []}, 'entry_id': 'mp-1025166'}\n",
      "{'@module': 'pymatgen.entries.computed_entries', '@class': 'ComputedEntry', 'energy': -42.08409645, 'composition': defaultdict(<class 'float'>, {'Si': 1.0, 'Pt': 5.0, 'Pb': 1.0}), 'correction': 0, 'parameters': {'run_type': 'GGA', 'is_hubbard': False, 'pseudo_potential': {'functional': 'PBE', 'labels': ['Si', 'Pt', 'Pb_d'], 'pot_type': 'paw'}, 'hubbards': {}, 'potcar_symbols': ['PBE Si', 'PBE Pt', 'PBE Pb_d'], 'oxide_type': 'None'}, 'data': {'oxide_type': 'None', 'icsd_ids': [648402]}, 'entry_id': 'mp-1025218'}\n",
      "{'@module': 'pymatgen.entries.computed_entries', '@class': 'ComputedEntry', 'energy': -49.75640077, 'composition': defaultdict(<class 'float'>, {'Nd': 2.0, 'Pd': 1.0, 'O': 4.0}), 'correction': -2.80916, 'parameters': {'run_type': 'GGA', 'is_hubbard': False, 'pseudo_potential': {'functional': 'PBE', 'labels': ['Nd_3', 'Pd', 'O'], 'pot_type': 'paw'}, 'hubbards': {}, 'potcar_symbols': ['PBE Nd_3', 'PBE Pd', 'PBE O'], 'oxide_type': 'oxide'}, 'data': {'oxide_type': 'oxide', 'icsd_ids': []}, 'entry_id': 'mp-1025319'}\n",
      "{'@module': 'pymatgen.entries.computed_entries', '@class': 'ComputedEntry', 'energy': -15.6556017, 'composition': defaultdict(<class 'float'>, {'Cd': 1.0, 'Ag': 2.0, 'I': 4.0}), 'correction': 0, 'parameters': {'run_type': 'GGA', 'is_hubbard': False, 'pseudo_potential': {'functional': 'PBE', 'labels': ['Cd', 'Ag', 'I'], 'pot_type': 'paw'}, 'hubbards': {}, 'potcar_symbols': ['PBE Cd', 'PBE Ag', 'PBE I'], 'oxide_type': 'None'}, 'data': {'oxide_type': 'None', 'icsd_ids': [190587]}, 'entry_id': 'mp-1025377'}\n",
      "{'@module': 'pymatgen.entries.computed_entries', '@class': 'ComputedEntry', 'energy': -41.48200346, 'composition': defaultdict(<class 'float'>, {'Ce': 2.0, 'Cu': 3.0, 'Ge': 3.0}), 'correction': 0, 'parameters': {'run_type': 'GGA', 'is_hubbard': False, 'pseudo_potential': {'functional': 'PBE', 'labels': ['Ce', 'Cu_pv', 'Ge_d'], 'pot_type': 'paw'}, 'hubbards': {}, 'potcar_symbols': ['PBE Ce', 'PBE Cu_pv', 'PBE Ge_d'], 'oxide_type': 'None'}, 'data': {'oxide_type': 'None', 'icsd_ids': []}, 'entry_id': 'mp-1025560'}\n",
      "{'@module': 'pymatgen.entries.computed_entries', '@class': 'ComputedEntry', 'energy': -51.54594406, 'composition': defaultdict(<class 'float'>, {'Nb': 2.0, 'Cl': 4.0, 'O': 2.0}), 'correction': -1.40458, 'parameters': {'run_type': 'GGA', 'is_hubbard': False, 'pseudo_potential': {'functional': 'PBE', 'labels': ['Nb_pv', 'Cl', 'O'], 'pot_type': 'paw'}, 'hubbards': {}, 'potcar_symbols': ['PBE Nb_pv', 'PBE Cl', 'PBE O'], 'oxide_type': 'oxide'}, 'data': {'oxide_type': 'oxide', 'icsd_ids': []}, 'entry_id': 'mp-1025567'}\n",
      "{'@module': 'pymatgen.entries.computed_entries', '@class': 'ComputedEntry', 'energy': -172.05968827, 'composition': defaultdict(<class 'float'>, {'Mg': 8.0, 'Re': 4.0, 'N': 12.0}), 'correction': 0, 'parameters': {'run_type': 'GGA', 'is_hubbard': False, 'pseudo_potential': {'functional': 'PBE', 'labels': ['Mg_pv', 'Re_pv', 'N'], 'pot_type': 'paw'}, 'hubbards': {}, 'potcar_symbols': ['PBE Mg_pv', 'PBE Re_pv', 'PBE N'], 'oxide_type': 'None'}, 'data': {'oxide_type': 'None', 'icsd_ids': []}, 'entry_id': 'mp-1029627'}\n",
      "{'@module': 'pymatgen.entries.computed_entries', '@class': 'ComputedEntry', 'energy': -123.60819258, 'composition': defaultdict(<class 'float'>, {'Ca': 8.0, 'Hf': 2.0, 'N': 8.0}), 'correction': 0, 'parameters': {'run_type': 'GGA', 'is_hubbard': False, 'pseudo_potential': {'functional': 'PBE', 'labels': ['Ca_sv', 'Hf_pv', 'N'], 'pot_type': 'paw'}, 'hubbards': {}, 'potcar_symbols': ['PBE Ca_sv', 'PBE Hf_pv', 'PBE N'], 'oxide_type': 'None'}, 'data': {'oxide_type': 'None', 'icsd_ids': []}, 'entry_id': 'mp-1029730'}\n",
      "{'@module': 'pymatgen.entries.computed_entries', '@class': 'ComputedEntry', 'energy': -78.75079361, 'composition': defaultdict(<class 'float'>, {'Te': 4.0, 'Mo': 3.0, 'W': 1.0, 'Se': 2.0, 'S': 2.0}), 'correction': -1.32692, 'parameters': {'run_type': 'GGA', 'is_hubbard': False, 'pseudo_potential': {'functional': 'PBE', 'labels': ['Te', 'Mo_pv', 'W_pv', 'Se', 'S'], 'pot_type': 'paw'}, 'hubbards': {}, 'potcar_symbols': ['PBE Te', 'PBE Mo_pv', 'PBE W_pv', 'PBE Se', 'PBE S'], 'oxide_type': 'None'}, 'data': {'oxide_type': 'None', 'icsd_ids': []}, 'entry_id': 'mp-1030571'}\n",
      "{'@module': 'pymatgen.entries.computed_entries', '@class': 'ComputedEntry', 'energy': -191.33853702, 'composition': defaultdict(<class 'float'>, {'Mg': 14.0, 'Al': 1.0, 'C': 1.0, 'O': 16.0}), 'correction': -11.23664, 'parameters': {'run_type': 'GGA', 'is_hubbard': False, 'pseudo_potential': {'functional': 'PBE', 'labels': ['Mg_pv', 'Al', 'C', 'O'], 'pot_type': 'paw'}, 'hubbards': {}, 'potcar_symbols': ['PBE Mg_pv', 'PBE Al', 'PBE C', 'PBE O'], 'oxide_type': 'oxide'}, 'data': {'oxide_type': 'oxide', 'icsd_ids': []}, 'entry_id': 'mp-1036461'}\n",
      "{'@module': 'pymatgen.entries.computed_entries', '@class': 'ComputedEntry', 'energy': -390.57409809, 'composition': defaultdict(<class 'float'>, {'Mg': 30.0, 'Nb': 1.0, 'V': 1.0, 'O': 32.0}), 'correction': -24.155279999999998, 'parameters': {'run_type': 'GGA+U', 'is_hubbard': True, 'pseudo_potential': {'functional': 'PBE', 'labels': ['Mg_pv', 'Nb_pv', 'V_pv', 'O'], 'pot_type': 'paw'}, 'hubbards': {'Mg': 0.0, 'Nb': 0.0, 'V': 3.25, 'O': 0.0}, 'potcar_symbols': ['PBE Mg_pv', 'PBE Nb_pv', 'PBE V_pv', 'PBE O'], 'oxide_type': 'oxide'}, 'data': {'oxide_type': 'oxide', 'icsd_ids': []}, 'entry_id': 'mp-1036765'}\n",
      "{'@module': 'pymatgen.entries.computed_entries', '@class': 'ComputedEntry', 'energy': -6.84231297, 'composition': defaultdict(<class 'float'>, {'Mg': 2.0, 'Cd': 4.0}), 'correction': 0, 'parameters': {'run_type': 'GGA', 'is_hubbard': False, 'pseudo_potential': {'functional': 'PBE', 'labels': ['Mg_pv', 'Cd'], 'pot_type': 'paw'}, 'hubbards': {}, 'potcar_symbols': ['PBE Mg_pv', 'PBE Cd'], 'oxide_type': 'None'}, 'data': {'oxide_type': 'None', 'icsd_ids': []}, 'entry_id': 'mp-1039056'}\n",
      "{'@module': 'pymatgen.entries.computed_entries', '@class': 'ComputedEntry', 'energy': -359.16293449, 'composition': defaultdict(<class 'float'>, {'Rb': 1.0, 'Na': 1.0, 'Mg': 30.0, 'O': 31.0}), 'correction': -21.770989999999998, 'parameters': {'run_type': 'GGA', 'is_hubbard': False, 'pseudo_potential': {'functional': 'PBE', 'labels': ['Rb_sv', 'Na_pv', 'Mg_pv', 'O'], 'pot_type': 'paw'}, 'hubbards': {}, 'potcar_symbols': ['PBE Rb_sv', 'PBE Na_pv', 'PBE Mg_pv', 'PBE O'], 'oxide_type': 'oxide'}, 'data': {'oxide_type': 'oxide', 'icsd_ids': []}, 'entry_id': 'mp-1039826'}\n",
      "{'@module': 'pymatgen.entries.computed_entries', '@class': 'ComputedEntry', 'energy': -7.20568944, 'composition': defaultdict(<class 'float'>, {'Pb': 2.0}), 'correction': 0, 'parameters': {'run_type': 'GGA', 'is_hubbard': False, 'pseudo_potential': {'functional': 'PBE', 'labels': ['Pb_d'], 'pot_type': 'paw'}, 'hubbards': {}, 'potcar_symbols': ['PBE Pb_d'], 'oxide_type': 'None'}, 'data': {'oxide_type': 'None', 'icsd_ids': [105158]}, 'entry_id': 'mp-1057273'}\n",
      "{'@module': 'pymatgen.entries.computed_entries', '@class': 'ComputedEntry', 'energy': -26.96569775, 'composition': defaultdict(<class 'float'>, {'Mn': 2.0, 'Cu': 1.0, 'Ge': 1.0}), 'correction': 0, 'parameters': {'run_type': 'GGA', 'is_hubbard': False, 'pseudo_potential': {'functional': 'PBE', 'labels': ['Mn_pv', 'Cu_pv', 'Ge_d'], 'pot_type': 'paw'}, 'hubbards': {}, 'potcar_symbols': ['PBE Mn_pv', 'PBE Cu_pv', 'PBE Ge_d'], 'oxide_type': 'None'}, 'data': {'oxide_type': 'None', 'icsd_ids': [184949]}, 'entry_id': 'mp-1065918'}\n",
      "{'@module': 'pymatgen.entries.computed_entries', '@class': 'ComputedEntry', 'energy': -19.44476928, 'composition': defaultdict(<class 'float'>, {'Sr': 2.0, 'U': 1.0, 'Mn': 1.0}), 'correction': 0, 'parameters': {'run_type': 'GGA', 'is_hubbard': False, 'pseudo_potential': {'functional': 'PBE', 'labels': ['Sr_sv', 'U', 'Mn_pv'], 'pot_type': 'paw'}, 'hubbards': {}, 'potcar_symbols': ['PBE Sr_sv', 'PBE U', 'PBE Mn_pv'], 'oxide_type': 'None'}, 'data': {'oxide_type': 'None', 'icsd_ids': [61290]}, 'entry_id': 'mp-1066751'}\n",
      "{'@module': 'pymatgen.entries.computed_entries', '@class': 'ComputedEntry', 'energy': -31.73734777, 'composition': defaultdict(<class 'float'>, {'La': 1.0, 'Co': 1.0, 'Si': 3.0}), 'correction': 0, 'parameters': {'run_type': 'GGA', 'is_hubbard': False, 'pseudo_potential': {'functional': 'PBE', 'labels': ['La', 'Co', 'Si'], 'pot_type': 'paw'}, 'hubbards': {}, 'potcar_symbols': ['PBE La', 'PBE Co', 'PBE Si'], 'oxide_type': 'None'}, 'data': {'oxide_type': 'None', 'icsd_ids': [624028]}, 'entry_id': 'mp-1068559'}\n",
      "{'@module': 'pymatgen.entries.computed_entries', '@class': 'ComputedEntry', 'energy': -36.24297806, 'composition': defaultdict(<class 'float'>, {'Cs': 1.0, 'V': 2.0, 'S': 2.0, 'O': 1.0}), 'correction': -5.39321, 'parameters': {'run_type': 'GGA+U', 'is_hubbard': True, 'pseudo_potential': {'functional': 'PBE', 'labels': ['Cs_sv', 'V_pv', 'S', 'O'], 'pot_type': 'paw'}, 'hubbards': {'Cs': 0.0, 'V': 3.25, 'S': 0.0, 'O': 0.0}, 'potcar_symbols': ['PBE Cs_sv', 'PBE V_pv', 'PBE S', 'PBE O'], 'oxide_type': 'oxide'}, 'data': {'oxide_type': 'oxide', 'icsd_ids': [430299]}, 'entry_id': 'mp-1070912'}\n",
      "{'@module': 'pymatgen.entries.computed_entries', '@class': 'ComputedEntry', 'energy': -48.04398612, 'composition': defaultdict(<class 'float'>, {'Mg': 4.0, 'Si': 8.0}), 'correction': 0, 'parameters': {'run_type': 'GGA', 'is_hubbard': False, 'pseudo_potential': {'functional': 'PBE', 'labels': ['Mg_pv', 'Si'], 'pot_type': 'paw'}, 'hubbards': {}, 'potcar_symbols': ['PBE Mg_pv', 'PBE Si'], 'oxide_type': 'None'}, 'data': {'oxide_type': 'None', 'icsd_ids': []}, 'entry_id': 'mp-1073523'}\n",
      "{'@module': 'pymatgen.entries.computed_entries', '@class': 'ComputedEntry', 'energy': -78.64856821, 'composition': defaultdict(<class 'float'>, {'Mg': 10.0, 'Si': 12.0}), 'correction': 0, 'parameters': {'run_type': 'GGA', 'is_hubbard': False, 'pseudo_potential': {'functional': 'PBE', 'labels': ['Mg_pv', 'Si'], 'pot_type': 'paw'}, 'hubbards': {}, 'potcar_symbols': ['PBE Mg_pv', 'PBE Si'], 'oxide_type': 'None'}, 'data': {'oxide_type': 'None', 'icsd_ids': []}, 'entry_id': 'mp-1075495'}\n",
      "{'@module': 'pymatgen.entries.computed_entries', '@class': 'ComputedEntry', 'energy': -79.13569995, 'composition': defaultdict(<class 'float'>, {'Mg': 10.0, 'Si': 12.0}), 'correction': 0, 'parameters': {'run_type': 'GGA', 'is_hubbard': False, 'pseudo_potential': {'functional': 'PBE', 'labels': ['Mg_pv', 'Si'], 'pot_type': 'paw'}, 'hubbards': {}, 'potcar_symbols': ['PBE Mg_pv', 'PBE Si'], 'oxide_type': 'None'}, 'data': {'oxide_type': 'None', 'icsd_ids': []}, 'entry_id': 'mp-1075505'}\n",
      "{'@module': 'pymatgen.entries.computed_entries', '@class': 'ComputedEntry', 'energy': -20.98281359, 'composition': defaultdict(<class 'float'>, {'V': 1.0, 'Fe': 1.0, 'Sb': 1.0}), 'correction': 0, 'parameters': {'run_type': 'GGA', 'is_hubbard': False, 'pseudo_potential': {'functional': 'PBE', 'labels': ['V_pv', 'Fe_pv', 'Sb'], 'pot_type': 'paw'}, 'hubbards': {}, 'potcar_symbols': ['PBE V_pv', 'PBE Fe_pv', 'PBE Sb'], 'oxide_type': 'None'}, 'data': {'oxide_type': 'None', 'icsd_ids': [152794]}, 'entry_id': 'mp-10756'}\n",
      "{'@module': 'pymatgen.entries.computed_entries', '@class': 'ComputedEntry', 'energy': -36.50811603, 'composition': defaultdict(<class 'float'>, {'Pr': 1.0, 'In': 1.0, 'Pt': 4.0}), 'correction': 0, 'parameters': {'run_type': 'GGA', 'is_hubbard': False, 'pseudo_potential': {'functional': 'PBE', 'labels': ['Pr_3', 'In_d', 'Pt'], 'pot_type': 'paw'}, 'hubbards': {}, 'potcar_symbols': ['PBE Pr_3', 'PBE In_d', 'PBE Pt'], 'oxide_type': 'None'}, 'data': {'oxide_type': 'None', 'icsd_ids': [640275]}, 'entry_id': 'mp-1077228'}\n",
      "{'@module': 'pymatgen.entries.computed_entries', '@class': 'ComputedEntry', 'energy': -38.70551312, 'composition': defaultdict(<class 'float'>, {'Rh': 3.0, 'Pb': 2.0, 'Se': 2.0}), 'correction': 0, 'parameters': {'run_type': 'GGA', 'is_hubbard': False, 'pseudo_potential': {'functional': 'PBE', 'labels': ['Rh_pv', 'Pb_d', 'Se'], 'pot_type': 'paw'}, 'hubbards': {}, 'potcar_symbols': ['PBE Rh_pv', 'PBE Pb_d', 'PBE Se'], 'oxide_type': 'None'}, 'data': {'oxide_type': 'None', 'icsd_ids': [5441, 648427]}, 'entry_id': 'mp-1077854'}\n",
      "{'@module': 'pymatgen.entries.computed_entries', '@class': 'ComputedEntry', 'energy': -66.79040153, 'composition': defaultdict(<class 'float'>, {'Th': 2.0, 'Ge': 4.0, 'Pt': 4.0}), 'correction': 0, 'parameters': {'run_type': 'GGA', 'is_hubbard': False, 'pseudo_potential': {'functional': 'PBE', 'labels': ['Th', 'Ge_d', 'Pt'], 'pot_type': 'paw'}, 'hubbards': {}, 'potcar_symbols': ['PBE Th', 'PBE Ge_d', 'PBE Pt'], 'oxide_type': 'None'}, 'data': {'oxide_type': 'None', 'icsd_ids': [637658]}, 'entry_id': 'mp-1078793'}\n",
      "{'@module': 'pymatgen.entries.computed_entries', '@class': 'ComputedEntry', 'energy': -47.40404553, 'composition': defaultdict(<class 'float'>, {'Sm': 3.0, 'Pd': 3.0, 'Pb': 3.0}), 'correction': 0, 'parameters': {'run_type': 'GGA', 'is_hubbard': False, 'pseudo_potential': {'functional': 'PBE', 'labels': ['Sm_3', 'Pd', 'Pb_d'], 'pot_type': 'paw'}, 'hubbards': {}, 'potcar_symbols': ['PBE Sm_3', 'PBE Pd', 'PBE Pb_d'], 'oxide_type': 'None'}, 'data': {'oxide_type': 'None', 'icsd_ids': [657943]}, 'entry_id': 'mp-1079245'}\n",
      "{'@module': 'pymatgen.entries.computed_entries', '@class': 'ComputedEntry', 'energy': -22.98843429, 'composition': defaultdict(<class 'float'>, {'Yb': 3.0, 'Mg': 3.0, 'Pb': 3.0}), 'correction': 0, 'parameters': {'run_type': 'GGA', 'is_hubbard': False, 'pseudo_potential': {'functional': 'PBE', 'labels': ['Yb_2', 'Mg_pv', 'Pb_d'], 'pot_type': 'paw'}, 'hubbards': {}, 'potcar_symbols': ['PBE Yb_2', 'PBE Mg_pv', 'PBE Pb_d'], 'oxide_type': 'None'}, 'data': {'oxide_type': 'None', 'icsd_ids': [602715]}, 'entry_id': 'mp-1079319'}\n",
      "{'@module': 'pymatgen.entries.computed_entries', '@class': 'ComputedEntry', 'energy': -86.32262071, 'composition': defaultdict(<class 'float'>, {'Cr': 6.0, 'As': 2.0, 'C': 2.0}), 'correction': 0, 'parameters': {'run_type': 'GGA', 'is_hubbard': False, 'pseudo_potential': {'functional': 'PBE', 'labels': ['Cr_pv', 'As', 'C'], 'pot_type': 'paw'}, 'hubbards': {}, 'potcar_symbols': ['PBE Cr_pv', 'PBE As', 'PBE C'], 'oxide_type': 'None'}, 'data': {'oxide_type': 'None', 'icsd_ids': [609880]}, 'entry_id': 'mp-1079324'}\n",
      "{'@module': 'pymatgen.entries.computed_entries', '@class': 'ComputedEntry', 'energy': -72.71869273, 'composition': defaultdict(<class 'float'>, {'Ba': 2.0, 'U': 1.0, 'Cd': 1.0, 'O': 6.0}), 'correction': -4.21374, 'parameters': {'run_type': 'GGA', 'is_hubbard': False, 'pseudo_potential': {'functional': 'PBE', 'labels': ['Ba_sv', 'U', 'Cd', 'O'], 'pot_type': 'paw'}, 'hubbards': {}, 'potcar_symbols': ['PBE Ba_sv', 'PBE U', 'PBE Cd', 'PBE O'], 'oxide_type': 'oxide'}, 'data': {'oxide_type': 'oxide', 'icsd_ids': [167503]}, 'entry_id': 'mp-1079615'}\n",
      "{'@module': 'pymatgen.entries.computed_entries', '@class': 'ComputedEntry', 'energy': -24.91492817, 'composition': defaultdict(<class 'float'>, {'Tl': 6.0, 'Pt': 2.0}), 'correction': 0, 'parameters': {'run_type': 'GGA', 'is_hubbard': False, 'pseudo_potential': {'functional': 'PBE', 'labels': ['Tl_d', 'Pt'], 'pot_type': 'paw'}, 'hubbards': {}, 'potcar_symbols': ['PBE Tl_d', 'PBE Pt'], 'oxide_type': 'None'}, 'data': {'oxide_type': 'None', 'icsd_ids': [186644]}, 'entry_id': 'mp-1079689'}\n",
      "{'@module': 'pymatgen.entries.computed_entries', '@class': 'ComputedEntry', 'energy': -48.60036409, 'composition': defaultdict(<class 'float'>, {'Y': 2.0, 'Ni': 2.0, 'Ge': 4.0}), 'correction': 0, 'parameters': {'run_type': 'GGA', 'is_hubbard': False, 'pseudo_potential': {'functional': 'PBE', 'labels': ['Y_sv', 'Ni_pv', 'Ge_d'], 'pot_type': 'paw'}, 'hubbards': {}, 'potcar_symbols': ['PBE Y_sv', 'PBE Ni_pv', 'PBE Ge_d'], 'oxide_type': 'None'}, 'data': {'oxide_type': 'None', 'icsd_ids': [637438]}, 'entry_id': 'mp-1079802'}\n",
      "{'@module': 'pymatgen.entries.computed_entries', '@class': 'ComputedEntry', 'energy': -47.51698804, 'composition': defaultdict(<class 'float'>, {'Nd': 2.0, 'Co': 2.0, 'Ge': 4.0}), 'correction': 0, 'parameters': {'run_type': 'GGA', 'is_hubbard': False, 'pseudo_potential': {'functional': 'PBE', 'labels': ['Nd_3', 'Co', 'Ge_d'], 'pot_type': 'paw'}, 'hubbards': {}, 'potcar_symbols': ['PBE Nd_3', 'PBE Co', 'PBE Ge_d'], 'oxide_type': 'None'}, 'data': {'oxide_type': 'None', 'icsd_ids': [623543]}, 'entry_id': 'mp-1080572'}\n",
      "{'@module': 'pymatgen.entries.computed_entries', '@class': 'ComputedEntry', 'energy': -26.05973879, 'composition': defaultdict(<class 'float'>, {'K': 6.0, 'Re': 3.0}), 'correction': 0, 'parameters': {'run_type': 'GGA', 'is_hubbard': False, 'pseudo_potential': {'functional': 'PBE', 'labels': ['K_sv', 'Re_pv'], 'pot_type': 'paw'}, 'hubbards': {}, 'potcar_symbols': ['PBE K_sv', 'PBE Re_pv'], 'oxide_type': 'None'}, 'data': {'oxide_type': 'None', 'icsd_ids': [23940]}, 'entry_id': 'mp-1080778'}\n",
      "{'@module': 'pymatgen.entries.computed_entries', '@class': 'ComputedEntry', 'energy': -89.45787688, 'composition': defaultdict(<class 'float'>, {'Si': 4.0, 'Mo': 6.0}), 'correction': 0, 'parameters': {'run_type': 'GGA', 'is_hubbard': False, 'pseudo_potential': {'functional': 'PBE', 'labels': ['Si', 'Mo_pv'], 'pot_type': 'paw'}, 'hubbards': {}, 'potcar_symbols': ['PBE Si', 'PBE Mo_pv'], 'oxide_type': 'None'}, 'data': {'oxide_type': 'None', 'icsd_ids': [644412]}, 'entry_id': 'mp-1087230'}\n",
      "{'@module': 'pymatgen.entries.computed_entries', '@class': 'ComputedEntry', 'energy': -7.0678081, 'composition': defaultdict(<class 'float'>, {'Cd': 2.0, 'Rh': 1.0, 'Au': 1.0}), 'correction': 0, 'parameters': {'run_type': 'GGA', 'is_hubbard': False, 'pseudo_potential': {'functional': 'PBE', 'labels': ['Cd', 'Rh_pv', 'Au'], 'pot_type': 'paw'}, 'hubbards': {}, 'potcar_symbols': ['PBE Cd', 'PBE Rh_pv', 'PBE Au'], 'oxide_type': 'None'}, 'data': {'oxide_type': 'None', 'icsd_ids': []}, 'entry_id': 'mp-1093594'}\n",
      "{'@module': 'pymatgen.entries.computed_entries', '@class': 'ComputedEntry', 'energy': -3.51348858, 'composition': defaultdict(<class 'float'>, {'Na': 1.0, 'Ca': 2.0, 'Al': 1.0}), 'correction': 0, 'parameters': {'run_type': 'GGA', 'is_hubbard': False, 'pseudo_potential': {'functional': 'PBE', 'labels': ['Na_pv', 'Ca_sv', 'Al'], 'pot_type': 'paw'}, 'hubbards': {}, 'potcar_symbols': ['PBE Na_pv', 'PBE Ca_sv', 'PBE Al'], 'oxide_type': 'None'}, 'data': {'oxide_type': 'None', 'icsd_ids': []}, 'entry_id': 'mp-1093799'}\n",
      "{'@module': 'pymatgen.entries.computed_entries', '@class': 'ComputedEntry', 'energy': -20.21902032, 'composition': defaultdict(<class 'float'>, {'Ta': 1.0, 'In': 1.0, 'Rh': 2.0}), 'correction': 0, 'parameters': {'run_type': 'GGA', 'is_hubbard': False, 'pseudo_potential': {'functional': 'PBE', 'labels': ['Ta_pv', 'In_d', 'Rh_pv'], 'pot_type': 'paw'}, 'hubbards': {}, 'potcar_symbols': ['PBE Ta_pv', 'PBE In_d', 'PBE Rh_pv'], 'oxide_type': 'None'}, 'data': {'oxide_type': 'None', 'icsd_ids': []}, 'entry_id': 'mp-1093812'}\n",
      "{'@module': 'pymatgen.entries.computed_entries', '@class': 'ComputedEntry', 'energy': -8.30794131, 'composition': defaultdict(<class 'float'>, {'Ag': 1.0, 'Pd': 2.0, 'Au': 1.0}), 'correction': 0, 'parameters': {'run_type': 'GGA', 'is_hubbard': False, 'pseudo_potential': {'functional': 'PBE', 'labels': ['Ag', 'Pd', 'Au'], 'pot_type': 'paw'}, 'hubbards': {}, 'potcar_symbols': ['PBE Ag', 'PBE Pd', 'PBE Au'], 'oxide_type': 'None'}, 'data': {'oxide_type': 'None', 'icsd_ids': []}, 'entry_id': 'mp-1093988'}\n",
      "{'@module': 'pymatgen.entries.computed_entries', '@class': 'ComputedEntry', 'energy': -98.95882812, 'composition': defaultdict(<class 'float'>, {'Zn': 2.0, 'Ga': 8.0, 'S': 14.0}), 'correction': -9.288440000000001, 'parameters': {'run_type': 'GGA', 'is_hubbard': False, 'pseudo_potential': {'functional': 'PBE', 'labels': ['Zn', 'Ga_d', 'S'], 'pot_type': 'paw'}, 'hubbards': {}, 'potcar_symbols': ['PBE Zn', 'PBE Ga_d', 'PBE S'], 'oxide_type': 'None'}, 'data': {'oxide_type': 'None', 'icsd_ids': []}, 'entry_id': 'mp-1094010'}\n",
      "{'@module': 'pymatgen.entries.computed_entries', '@class': 'ComputedEntry', 'energy': -19.72757806, 'composition': defaultdict(<class 'float'>, {'La': 3.0, 'Mg': 3.0}), 'correction': 0, 'parameters': {'run_type': 'GGA', 'is_hubbard': False, 'pseudo_potential': {'functional': 'PBE', 'labels': ['La', 'Mg_pv'], 'pot_type': 'paw'}, 'hubbards': {}, 'potcar_symbols': ['PBE La', 'PBE Mg_pv'], 'oxide_type': 'None'}, 'data': {'oxide_type': 'None', 'icsd_ids': []}, 'entry_id': 'mp-1094182'}\n",
      "{'@module': 'pymatgen.entries.computed_entries', '@class': 'ComputedEntry', 'energy': -5.99803517, 'composition': defaultdict(<class 'float'>, {'Mg': 1.0, 'Sb': 1.0}), 'correction': 0, 'parameters': {'run_type': 'GGA', 'is_hubbard': False, 'pseudo_potential': {'functional': 'PBE', 'labels': ['Mg_pv', 'Sb'], 'pot_type': 'paw'}, 'hubbards': {}, 'potcar_symbols': ['PBE Mg_pv', 'PBE Sb'], 'oxide_type': 'None'}, 'data': {'oxide_type': 'None', 'icsd_ids': []}, 'entry_id': 'mp-1094188'}\n",
      "{'@module': 'pymatgen.entries.computed_entries', '@class': 'ComputedEntry', 'energy': -23.02066558, 'composition': defaultdict(<class 'float'>, {'La': 4.0, 'Mg': 2.0}), 'correction': 0, 'parameters': {'run_type': 'GGA', 'is_hubbard': False, 'pseudo_potential': {'functional': 'PBE', 'labels': ['La', 'Mg_pv'], 'pot_type': 'paw'}, 'hubbards': {}, 'potcar_symbols': ['PBE La', 'PBE Mg_pv'], 'oxide_type': 'None'}, 'data': {'oxide_type': 'None', 'icsd_ids': []}, 'entry_id': 'mp-1094195'}\n",
      "{'@module': 'pymatgen.entries.computed_entries', '@class': 'ComputedEntry', 'energy': -12.66311989, 'composition': defaultdict(<class 'float'>, {'Mg': 4.0, 'Ga': 2.0}), 'correction': 0, 'parameters': {'run_type': 'GGA', 'is_hubbard': False, 'pseudo_potential': {'functional': 'PBE', 'labels': ['Mg_pv', 'Ga_d'], 'pot_type': 'paw'}, 'hubbards': {}, 'potcar_symbols': ['PBE Mg_pv', 'PBE Ga_d'], 'oxide_type': 'None'}, 'data': {'oxide_type': 'None', 'icsd_ids': []}, 'entry_id': 'mp-1094647'}\n"
     ]
    }
   ],
   "source": [
    "prop = [\"icsd_ids\"]\n",
    "for i in mp_ids[:100]:\n",
    "    test = downloader.get_entry_by_material_id(i, property_data=prop)\n",
    "    print(test.as_dict())"
   ]
  },
  {
   "cell_type": "code",
   "execution_count": 12,
   "metadata": {},
   "outputs": [
    {
     "name": "stdout",
     "output_type": "stream",
     "text": [
      "{'pretty_formula': 'BaN2', 'unit_cell_formula': {'Ba': 2.0, 'N': 4.0}, 'structure': Structure Summary\n",
      "Lattice\n",
      "    abc : 4.266926033749355 4.266926033749355 7.337786431045537\n",
      " angles : 77.21342756937537 77.21342756937537 63.39366604491982\n",
      " volume : 115.33745621691405\n",
      "      A : 2.241948 3.630472 0.0\n",
      "      B : -2.241948 3.630472 0.0\n",
      "      C : 0.0 1.9087 7.085194\n",
      "PeriodicSite: Ba (-1.2934, 4.1076, 1.7713) [0.2115, 0.7885, 0.2500]\n",
      "PeriodicSite: Ba (1.2934, 5.0620, 5.3139) [0.7885, 0.2115, 0.7500]\n",
      "PeriodicSite: N (0.6648, 3.0214, 3.2172) [0.4450, 0.1485, 0.4541]\n",
      "PeriodicSite: N (0.6648, 5.1939, 0.3254) [0.8515, 0.5550, 0.0459]\n",
      "PeriodicSite: N (-0.6648, 3.9758, 6.7598) [0.1485, 0.4450, 0.9541]\n",
      "PeriodicSite: N (-0.6648, 6.1482, 3.8679) [0.5550, 0.8515, 0.5459], 'energy': -40.25724412, 'energy_per_atom': -6.709540686666667, 'band_gap': 0.0, 'is_hubbard': False, 'hubbards': {}, 'is_compatible': True, 'icsd_id': None, 'elasticity': None, 'piezo': None, 'diel': None, 'formation_energy_per_atom': -0.7682356182533331}\n"
     ]
    }
   ],
   "source": [
    "print(results[0])"
   ]
  },
  {
   "cell_type": "code",
   "execution_count": 5,
   "metadata": {},
   "outputs": [],
   "source": [
    "# extract symmetry from structure\n",
    "from pymatgen.symmetry.analyzer import SpacegroupAnalyzer\n",
    "structures = [data[\"structure\"] for data in results]\n",
    "symmetries = []\n",
    "for structure in structures:\n",
    "    symmetries.append(SpacegroupAnalyzer(structure).get_space_group_number())"
   ]
  },
  {
   "cell_type": "code",
   "execution_count": 6,
   "metadata": {},
   "outputs": [],
   "source": [
    "#generate list of each property\n",
    "# [\"pretty_formula\",\"unit_cell_formula\", \"structure\",\"energy\",\"energy_per_atom\",\"band_gap\"\"is_hubbard\",\"hubbards\",\"is_compatible\",\"icsd_id\",\"elasticity\",\"piezo\",\"diel\",\"formation_energy_per_atom\"]\n",
    "pretty_formulas = [data[\"pretty_formula\"] for data in results]\n",
    "energies = [data[\"energy\"] for data in results]\n",
    "energy_per_atoms = [data[\"energy_per_atom\"] for data in results]\n",
    "band_gaps = [data[\"band_gap\"] for data in results]\n",
    "unit_cell_formulas = [data[\"unit_cell_formula\"] for data in results]\n",
    "is_hubbard = [data[\"is_hubbard\"] for data in results]\n",
    "hubbards = [data[\"hubbards\"] for data in results]\n",
    "is_compatible = [data[\"is_compatible\"] for data in results]\n",
    "icsd_id = [data[\"icsd_ids\"] for data in results]\n",
    "elasticity = [data[\"elasticity\"] for data in results]\n",
    "piezo = [data[\"piezo\"] for data in results]\n",
    "diel = [data[\"diel\"] for data in results]\n",
    "formation_energy_per_atom = [data[\"formation_energy_per_atom\"] for data in results]"
   ]
  },
  {
   "cell_type": "code",
   "execution_count": 7,
   "metadata": {},
   "outputs": [],
   "source": [
    "import pandas as pd\n",
    "all_data = {\"pretty_formula\":pretty_formulas,\n",
    "            \"unit_cell_formula\":unit_cell_formulas,\n",
    "           \"energy\":energies,\n",
    "           \"energy_per_atom\":energy_per_atoms,\n",
    "           \"band_gap\":band_gaps,\n",
    "           \"symmetry\":symmetries,\n",
    "           \"is_hubbard\":is_hubbard,\n",
    "           \"hubbards\":hubbards,\n",
    "           \"is_compatible\":is_compatible,\n",
    "           \"icsd_id\":icsd_id,\n",
    "           \"elasticity\":elasticity,\n",
    "           \"piezo\":piezo,\n",
    "           \"diel\":diel,\n",
    "           \"formation_energy_per_atom\":formation_energy_per_atom}\n",
    "all_dataframe = pd.DataFrame(all_data,index=None)"
   ]
  },
  {
   "cell_type": "code",
   "execution_count": 8,
   "metadata": {},
   "outputs": [],
   "source": [
    "all_dataframe.to_csv(\"./mp_all_data.csv\")"
   ]
  }
 ],
 "metadata": {
  "kernelspec": {
   "display_name": "Python 3",
   "language": "python",
   "name": "python3"
  },
  "language_info": {
   "codemirror_mode": {
    "name": "ipython",
    "version": 3
   },
   "file_extension": ".py",
   "mimetype": "text/x-python",
   "name": "python",
   "nbconvert_exporter": "python",
   "pygments_lexer": "ipython3",
   "version": "3.7.4"
  }
 },
 "nbformat": 4,
 "nbformat_minor": 4
}